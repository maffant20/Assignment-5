{
  "nbformat": 4,
  "nbformat_minor": 0,
  "metadata": {
    "colab": {
      "provenance": [],
      "authorship_tag": "ABX9TyMbuxskznGA6u40KfwZM4Cy",
      "include_colab_link": true
    },
    "kernelspec": {
      "name": "python3",
      "display_name": "Python 3"
    },
    "language_info": {
      "name": "python"
    }
  },
  "cells": [
    {
      "cell_type": "markdown",
      "metadata": {
        "id": "view-in-github",
        "colab_type": "text"
      },
      "source": [
        "<a href=\"https://colab.research.google.com/github/maffant20/Assignment-5/blob/main/Learning_Rate_Selection.ipynb\" target=\"_parent\"><img src=\"https://colab.research.google.com/assets/colab-badge.svg\" alt=\"Open In Colab\"/></a>"
      ]
    },
    {
      "cell_type": "code",
      "execution_count": 34,
      "metadata": {
        "colab": {
          "base_uri": "https://localhost:8080/"
        },
        "id": "z9wEf4TurVVk",
        "outputId": "bbb5f637-47b6-407e-90da-3b7d22697911"
      },
      "outputs": [
        {
          "output_type": "stream",
          "name": "stdout",
          "text": [
            "Training Images Size: (50000, 32, 32, 3)\n",
            "(32, 32, 3)\n"
          ]
        }
      ],
      "source": [
        "import tensorflow as tf\n",
        "from tensorflow.keras import datasets,layers,models\n",
        "import keras\n",
        "from keras.models import Sequential\n",
        "from keras.layers import Dense, Dropout, Flatten\n",
        "from keras.optimizers import SGD\n",
        "from keras.constraints import maxnorm\n",
        "from keras.layers import Conv2D, MaxPooling2D\n",
        "from keras.datasets import cifar10\n",
        "from keras.utils import np_utils\n",
        "from matplotlib import pyplot as plt\n",
        "import numpy as np\n",
        "from PIL import Image\n",
        "from sklearn.model_selection import train_test_split\n",
        "\n",
        "#Load Data\n",
        "np.random.seed(6) #For reproducibility\n",
        "(X_train2, Y_train2),(X_test, Y_test) = cifar10.load_data()\n",
        "\n",
        "#Dataset characteristics\n",
        "print('Training Images Size: {}'.format(X_train2.shape))\n",
        "print(X_train2[0].shape)"
      ]
    },
    {
      "cell_type": "code",
      "source": [
        "# X= np.concatenate((X_train,X_test),axis=0)\n",
        "# Y =  np.concatenate((Y_train,Y_test),axis=0)\n",
        "# print(X.shape)\n",
        "# print(Y.shape)\n",
        "# np.random.seed(6)\n",
        "# X_train, X_val, X_test = np.split(X.sample(frac=1), [int(0.6*len(X)),int(0.8*len(X))])\n",
        "\n",
        "# Y_train, Y_val, Y_test = np.split(Y.sample(frac=1), [int(0.6*len(Y)),int(0.8*len(Y))])\n"
      ],
      "metadata": {
        "id": "HZU-4XufnRYf"
      },
      "execution_count": 35,
      "outputs": []
    },
    {
      "cell_type": "code",
      "source": [
        "idx = (Y_train2 == 0).reshape(X_train2.shape[0])\n",
        "filtered_images_0 = X_train2[idx]\n",
        "X_tr0 = filtered_images_0 [0:4000]\n",
        "X_val0 = filtered_images_0[4000:5000]\n",
        "Y_0 = Y_train2[idx]\n",
        "Y_tr0 = Y_0[0:4000]\n",
        "Y_val0 = Y_0[4000:5000]\n",
        "\n",
        "idx1 = (Y_train2 == 1).reshape(X_train2.shape[0])\n",
        "filtered_images_1 = X_train2[idx1]\n",
        "X_tr1 = filtered_images_1 [0:4000]\n",
        "X_val1 = filtered_images_1[4000:5000]\n",
        "Y_1 = Y_train2[idx1]\n",
        "Y_tr1 = Y_1[0:4000]\n",
        "Y_val1 = Y_1[4000:5000]\n",
        "\n",
        "\n",
        "\n",
        "idx2 = (Y_train2 == 2).reshape(X_train2.shape[0])\n",
        "filtered_images_2 = X_train2[idx2]\n",
        "X_tr2 = filtered_images_2 [0:4000]\n",
        "X_val2 = filtered_images_2[4000:5000]\n",
        "Y_2 = Y_train2[idx2]\n",
        "Y_tr2 = Y_2[0:4000]\n",
        "Y_val2 = Y_2[4000:5000]\n",
        "\n",
        "idx3 = (Y_train2 == 3).reshape(X_train2.shape[0])\n",
        "filtered_images_3 = X_train2[idx3]\n",
        "X_tr3 = filtered_images_3 [0:4000]\n",
        "X_val3 = filtered_images_3[4000:5000]\n",
        "Y_3 = Y_train2[idx3]\n",
        "Y_tr3 = Y_3[0:4000]\n",
        "Y_val3 = Y_3[4000:5000]\n",
        "\n",
        "idx4 = (Y_train2 == 4).reshape(X_train2.shape[0])\n",
        "filtered_images_4 = X_train2[idx4]\n",
        "X_tr4 = filtered_images_4 [0:4000]\n",
        "X_val4 = filtered_images_4[4000:5000]\n",
        "Y_4 = Y_train2[idx4]\n",
        "Y_tr4 = Y_4[0:4000]\n",
        "Y_val4 = Y_4[4000:5000]\n",
        "\n",
        "idx5 = (Y_train2 == 5).reshape(X_train2.shape[0])\n",
        "filtered_images_5 = X_train2[idx5]\n",
        "X_tr5 = filtered_images_5 [0:4000]\n",
        "X_val5 = filtered_images_5[4000:5000]\n",
        "Y_5 = Y_train2[idx5]\n",
        "Y_tr5 = Y_5[0:4000]\n",
        "Y_val5 = Y_5[4000:5000]\n",
        "\n",
        "idx6 = (Y_train2 == 6).reshape(X_train2.shape[0])\n",
        "filtered_images_6 = X_train2[idx6]\n",
        "X_tr6 = filtered_images_6 [0:4000]\n",
        "X_val6 = filtered_images_6[4000:5000]\n",
        "Y_6 = Y_train2[idx6]\n",
        "Y_tr6 = Y_6[0:4000]\n",
        "Y_val6 = Y_6[4000:5000]\n",
        "\n",
        "idx7 = (Y_train2 == 7).reshape(X_train2.shape[0])\n",
        "filtered_images_7 = X_train2[idx7]\n",
        "X_tr7 = filtered_images_7 [0:4000]\n",
        "X_val7 = filtered_images_7[4000:5000]\n",
        "Y_7 = Y_train2[idx7]\n",
        "Y_tr7 = Y_7[0:4000]\n",
        "Y_val7 = Y_7[4000:5000]\n",
        "\n",
        "idx8 = (Y_train2 == 8).reshape(X_train2.shape[0])\n",
        "filtered_images_8 = X_train2[idx8]\n",
        "X_tr8 = filtered_images_8 [0:4000]\n",
        "X_val8 = filtered_images_8[4000:5000]\n",
        "Y_8 = Y_train2[idx8]\n",
        "Y_tr8 = Y_8[0:4000]\n",
        "Y_val8 = Y_8[4000:5000]\n",
        "\n",
        "idx9 = (Y_train2 == 9).reshape(X_train2.shape[0])\n",
        "filtered_images_9 = X_train2[idx9]\n",
        "X_tr9 = filtered_images_9 [0:4000]\n",
        "X_val9 = filtered_images_9[4000:5000]\n",
        "Y_9 = Y_train2[idx9]\n",
        "Y_tr9 = Y_9[0:4000]\n",
        "Y_val9 = Y_9[4000:5000]\n",
        "\n",
        "X_train = np.concatenate((X_tr0,X_tr1),axis=0)\n",
        "X_train = np.concatenate((X_train,X_tr2),axis =0)\n",
        "X_train = np.concatenate((X_train,X_tr3),axis =0)\n",
        "X_train = np.concatenate((X_train,X_tr4),axis =0)\n",
        "X_train = np.concatenate((X_train,X_tr5),axis =0)\n",
        "X_train = np.concatenate((X_train,X_tr6),axis =0)\n",
        "X_train = np.concatenate((X_train,X_tr7),axis =0)\n",
        "X_train = np.concatenate((X_train,X_tr8),axis =0)\n",
        "X_train = np.concatenate((X_train,X_tr9),axis =0)\n",
        "\n",
        "X_val = np.concatenate((X_val0,X_val1),axis=0)\n",
        "X_val = np.concatenate((X_val,X_val2),axis=0)\n",
        "X_val = np.concatenate((X_val,X_val3),axis=0)\n",
        "X_val = np.concatenate((X_val,X_val4),axis=0)\n",
        "X_val = np.concatenate((X_val,X_val5),axis=0)\n",
        "X_val = np.concatenate((X_val,X_val6),axis=0)\n",
        "X_val = np.concatenate((X_val,X_val7),axis=0)\n",
        "X_val = np.concatenate((X_val,X_val8),axis=0)\n",
        "X_val = np.concatenate((X_val,X_val9),axis=0)\n",
        "\n",
        "Y_train = np.concatenate((Y_tr0,Y_tr1),axis=0)\n",
        "Y_train = np.concatenate((Y_train,Y_tr2),axis=0)\n",
        "Y_train = np.concatenate((Y_train,Y_tr3),axis=0)\n",
        "Y_train = np.concatenate((Y_train,Y_tr4),axis=0)\n",
        "Y_train = np.concatenate((Y_train,Y_tr5),axis=0)\n",
        "Y_train = np.concatenate((Y_train,Y_tr6),axis=0)\n",
        "Y_train = np.concatenate((Y_train,Y_tr7),axis=0)\n",
        "Y_train = np.concatenate((Y_train,Y_tr8),axis=0)\n",
        "Y_train = np.concatenate((Y_train,Y_tr9),axis=0)\n",
        "\n",
        "Y_val = np.concatenate((Y_val0,Y_val1),axis=0)\n",
        "Y_val = np.concatenate((Y_val,Y_val2),axis=0)\n",
        "Y_val = np.concatenate((Y_val,Y_val3),axis=0)\n",
        "Y_val = np.concatenate((Y_val,Y_val4),axis=0)\n",
        "Y_val = np.concatenate((Y_val,Y_val5),axis=0)\n",
        "Y_val = np.concatenate((Y_val,Y_val6),axis=0)\n",
        "Y_val = np.concatenate((Y_val,Y_val7),axis=0)\n",
        "Y_val = np.concatenate((Y_val,Y_val8),axis=0)\n",
        "Y_val = np.concatenate((Y_val,Y_val9),axis=0)\n",
        "\n",
        "\n",
        "print(X_train.shape)\n",
        "print(X_val.shape)\n",
        "print(Y_train.shape)\n",
        "print(Y_val.shape)"
      ],
      "metadata": {
        "colab": {
          "base_uri": "https://localhost:8080/"
        },
        "id": "dTHgzcK0dK-V",
        "outputId": "4f740176-cb67-4578-f4c8-af6dcb40d3c2"
      },
      "execution_count": 36,
      "outputs": [
        {
          "output_type": "stream",
          "name": "stdout",
          "text": [
            "(40000, 32, 32, 3)\n",
            "(10000, 32, 32, 3)\n",
            "(40000, 1)\n",
            "(10000, 1)\n"
          ]
        }
      ]
    },
    {
      "cell_type": "code",
      "source": [
        "# Y_0 = np.zeros((5000,1))\n",
        "# k=0 \n",
        "# for i in range(50000):\n",
        "#   if Y_train2[i]==0:\n",
        "#     Y_0[k]= Y_train2[i]\n",
        "#     k += 1 \n",
        "# Y_1 = np.zeros((5000,1))\n",
        "# k=0 \n",
        "# for i in range(50000):\n",
        "#   if Y_train2[i]==1:\n",
        "#     Y_1[k]= Y_train2[i]\n",
        "#     k += 1 \n",
        "# Y_2 = np.zeros((5000,1))\n",
        "# k=0 \n",
        "# for i in range(50000):\n",
        "#   if Y_train2[i]==2:\n",
        "#     Y_2[k]= Y_train2[i]\n",
        "#     k += 1   \n",
        "# Y_3 = np.zeros((5000,1))\n",
        "# k=0 \n",
        "# for i in range(50000):\n",
        "#   if Y_train2[i]==3:\n",
        "#     Y_3[k]= Y_train2[i]\n",
        "#     k += 1\n",
        "# Y_4 = np.zeros((5000,1))\n",
        "# k=0 \n",
        "# for i in range(50000):\n",
        "#   if Y_train2[i]==4:\n",
        "#     Y_4[k]= Y_train2[i]\n",
        "#     k += 1\n",
        "# Y_5 = np.zeros((5000,1))\n",
        "# k=0 \n",
        "# for i in range(50000):\n",
        "#   if Y_train2[i]==5:\n",
        "#     Y_5[k]= Y_train2[i]\n",
        "#     k += 1\n",
        "# Y_6 = np.zeros((5000,1))\n",
        "# k=0 \n",
        "# for i in range(50000):\n",
        "#   if Y_train2[i]==6:\n",
        "#     Y_6[k]= Y_train2[i]\n",
        "#     k += 1\n",
        "# Y_7 = np.zeros((5000,1))\n",
        "# k=0 \n",
        "# for i in range(50000):\n",
        "#   if Y_train2[i]==7:\n",
        "#     Y_7[k]= Y_train2[i]\n",
        "#     k += 1\n",
        "# Y_8 = np.zeros((5000,1))\n",
        "# k=0 \n",
        "# for i in range(50000):\n",
        "#   if Y_train2[i]==8:\n",
        "#     Y_8[k]= Y_train2[i]\n",
        "#     k += 1\n",
        "# Y_9 = np.zeros((5000,1))\n",
        "# k=0 \n",
        "# for i in range(50000):\n",
        "#   if Y_train2[i]==9:\n",
        "#     Y_9[k]= Y_train2[i]\n",
        "#     k += 1\n",
        "\n",
        "\n",
        "# print(Y_0.shape)\n",
        "\n",
        "# print(Y_1.shape)\n",
        "\n",
        "# print(Y_2.shape)\n"
      ],
      "metadata": {
        "id": "Jjd9_paLseu-"
      },
      "execution_count": 37,
      "outputs": []
    },
    {
      "cell_type": "code",
      "source": [
        "print(X_train.shape)\n",
        "print(Y_train.shape)\n"
      ],
      "metadata": {
        "colab": {
          "base_uri": "https://localhost:8080/"
        },
        "id": "XhGgmeI2nj4R",
        "outputId": "d1b980ff-d2c4-4418-8a48-cbb30ae3960f"
      },
      "execution_count": 38,
      "outputs": [
        {
          "output_type": "stream",
          "name": "stdout",
          "text": [
            "(40000, 32, 32, 3)\n",
            "(40000, 1)\n"
          ]
        }
      ]
    },
    {
      "cell_type": "code",
      "source": [
        "for i in range(10):\n",
        "  print('train_label = {}'.format(i))\n",
        "  idx = (Y_train == i).reshape(X_train.shape[0])\n",
        "  print('Index Shape: {}'.format(idx.shape))\n",
        "  filtered_images = X_train[idx]\n",
        "  print('Filtered Images Shape: {}'.format(filtered_images.shape))"
      ],
      "metadata": {
        "colab": {
          "base_uri": "https://localhost:8080/"
        },
        "id": "FatnvNFToBlI",
        "outputId": "e91502b6-7b81-481e-f5c1-d3d22a37f724"
      },
      "execution_count": 39,
      "outputs": [
        {
          "output_type": "stream",
          "name": "stdout",
          "text": [
            "train_label = 0\n",
            "Index Shape: (40000,)\n",
            "Filtered Images Shape: (4000, 32, 32, 3)\n",
            "train_label = 1\n",
            "Index Shape: (40000,)\n",
            "Filtered Images Shape: (4000, 32, 32, 3)\n",
            "train_label = 2\n",
            "Index Shape: (40000,)\n",
            "Filtered Images Shape: (4000, 32, 32, 3)\n",
            "train_label = 3\n",
            "Index Shape: (40000,)\n",
            "Filtered Images Shape: (4000, 32, 32, 3)\n",
            "train_label = 4\n",
            "Index Shape: (40000,)\n",
            "Filtered Images Shape: (4000, 32, 32, 3)\n",
            "train_label = 5\n",
            "Index Shape: (40000,)\n",
            "Filtered Images Shape: (4000, 32, 32, 3)\n",
            "train_label = 6\n",
            "Index Shape: (40000,)\n",
            "Filtered Images Shape: (4000, 32, 32, 3)\n",
            "train_label = 7\n",
            "Index Shape: (40000,)\n",
            "Filtered Images Shape: (4000, 32, 32, 3)\n",
            "train_label = 8\n",
            "Index Shape: (40000,)\n",
            "Filtered Images Shape: (4000, 32, 32, 3)\n",
            "train_label = 9\n",
            "Index Shape: (40000,)\n",
            "Filtered Images Shape: (4000, 32, 32, 3)\n"
          ]
        }
      ]
    },
    {
      "cell_type": "code",
      "source": [
        "classes = ['airplane','automobile','bird','cat','deer','dog','frog','horse','ship','truck']"
      ],
      "metadata": {
        "id": "mk58AWeU4WNp"
      },
      "execution_count": 40,
      "outputs": []
    },
    {
      "cell_type": "code",
      "source": [
        "#Preprocessing Dataset\n",
        "\n",
        "#Normalize Input Images\n",
        "X_train = X_train.astype('float32')\n",
        "X_test = X_test.astype('float32')\n",
        "X_val = X_val.astype('float32')\n",
        "X_train /= 255\n",
        "X_test /= 255\n",
        "X_val /=255\n",
        "print(X_train[0])"
      ],
      "metadata": {
        "colab": {
          "base_uri": "https://localhost:8080/"
        },
        "id": "D1qRkXv157z4",
        "outputId": "19d3d576-a95e-4318-f503-9ab7b91c26fc"
      },
      "execution_count": 41,
      "outputs": [
        {
          "output_type": "stream",
          "name": "stdout",
          "text": [
            "[[[0.7921569  0.8        0.78039217]\n",
            "  [0.7921569  0.8        0.78039217]\n",
            "  [0.8        0.80784315 0.7882353 ]\n",
            "  ...\n",
            "  [0.8117647  0.8156863  0.78431374]\n",
            "  [0.8039216  0.80784315 0.78039217]\n",
            "  [0.79607844 0.8        0.7764706 ]]\n",
            "\n",
            " [[0.80784315 0.8156863  0.79607844]\n",
            "  [0.80784315 0.8156863  0.79607844]\n",
            "  [0.8117647  0.81960785 0.8       ]\n",
            "  ...\n",
            "  [0.8235294  0.827451   0.8039216 ]\n",
            "  [0.8156863  0.81960785 0.79607844]\n",
            "  [0.80784315 0.8117647  0.7882353 ]]\n",
            "\n",
            " [[0.8235294  0.83137256 0.8117647 ]\n",
            "  [0.827451   0.8352941  0.8156863 ]\n",
            "  [0.83137256 0.8392157  0.8235294 ]\n",
            "  ...\n",
            "  [0.8392157  0.8392157  0.8235294 ]\n",
            "  [0.83137256 0.8352941  0.8156863 ]\n",
            "  [0.8235294  0.827451   0.80784315]]\n",
            "\n",
            " ...\n",
            "\n",
            " [[0.85490197 0.8509804  0.87058824]\n",
            "  [0.8235294  0.81960785 0.8392157 ]\n",
            "  [0.7607843  0.7607843  0.7764706 ]\n",
            "  ...\n",
            "  [0.9529412  0.9490196  0.96862745]\n",
            "  [0.95686275 0.9490196  0.96862745]\n",
            "  [0.9529412  0.9529412  0.96862745]]\n",
            "\n",
            " [[0.85882354 0.85490197 0.8745098 ]\n",
            "  [0.8509804  0.84705883 0.8666667 ]\n",
            "  [0.84705883 0.84705883 0.8627451 ]\n",
            "  ...\n",
            "  [0.94509804 0.9411765  0.9607843 ]\n",
            "  [0.94509804 0.9411765  0.9607843 ]\n",
            "  [0.94509804 0.9411765  0.9607843 ]]\n",
            "\n",
            " [[0.8509804  0.84705883 0.8666667 ]\n",
            "  [0.84705883 0.84313726 0.8627451 ]\n",
            "  [0.8509804  0.84705883 0.8666667 ]\n",
            "  ...\n",
            "  [0.9372549  0.93333334 0.9529412 ]\n",
            "  [0.9372549  0.93333334 0.9529412 ]\n",
            "  [0.9411765  0.93333334 0.9529412 ]]]\n"
          ]
        }
      ]
    },
    {
      "cell_type": "code",
      "source": [
        "print(Y_train.shape)\n",
        "print(Y_train[0])"
      ],
      "metadata": {
        "colab": {
          "base_uri": "https://localhost:8080/"
        },
        "id": "OHfEIrMzLcdy",
        "outputId": "ee8a961f-d9b3-45dd-9164-b36119cb2951"
      },
      "execution_count": 42,
      "outputs": [
        {
          "output_type": "stream",
          "name": "stdout",
          "text": [
            "(40000, 1)\n",
            "[0]\n"
          ]
        }
      ]
    },
    {
      "cell_type": "code",
      "source": [
        "#One Hot Encoding\n",
        "#It avoids biases towards higher numbers\n",
        "Y_train = np_utils.to_categorical(Y_train)\n",
        "Y_test = np_utils.to_categorical(Y_test)\n",
        "Y_val = np_utils.to_categorical(Y_val)\n",
        "num_classes = Y_test.shape[1]\n",
        "print(Y_train.shape)\n",
        "print(Y_train[0])\n"
      ],
      "metadata": {
        "colab": {
          "base_uri": "https://localhost:8080/"
        },
        "id": "yKXsoKo7OZYa",
        "outputId": "a10b69f2-c7d3-42ad-9f52-3f319359e516"
      },
      "execution_count": 43,
      "outputs": [
        {
          "output_type": "stream",
          "name": "stdout",
          "text": [
            "(40000, 10)\n",
            "[1. 0. 0. 0. 0. 0. 0. 0. 0. 0.]\n"
          ]
        }
      ]
    },
    {
      "cell_type": "code",
      "source": [
        "print(num_classes)"
      ],
      "metadata": {
        "colab": {
          "base_uri": "https://localhost:8080/"
        },
        "id": "x3L5Vu6PP5Jv",
        "outputId": "a6e8d427-a172-4ba5-a359-6001be557cea"
      },
      "execution_count": 44,
      "outputs": [
        {
          "output_type": "stream",
          "name": "stdout",
          "text": [
            "10\n"
          ]
        }
      ]
    },
    {
      "cell_type": "code",
      "source": [
        "print(Y_val[1000])"
      ],
      "metadata": {
        "colab": {
          "base_uri": "https://localhost:8080/"
        },
        "id": "80NnvsoE4Tud",
        "outputId": "aa909062-4f6c-4068-afc2-c32671e33bd9"
      },
      "execution_count": 45,
      "outputs": [
        {
          "output_type": "stream",
          "name": "stdout",
          "text": [
            "[0. 1. 0. 0. 0. 0. 0. 0. 0. 0.]\n"
          ]
        }
      ]
    },
    {
      "cell_type": "code",
      "source": [
        "for i in range(10):\n",
        "  if Y_val[2000][i] == 1:\n",
        "    print(classes[i])\n"
      ],
      "metadata": {
        "colab": {
          "base_uri": "https://localhost:8080/"
        },
        "id": "ZrD_RW_x5GSC",
        "outputId": "4f27ca69-ae33-47f2-e22f-36cc51bc7b1f"
      },
      "execution_count": 46,
      "outputs": [
        {
          "output_type": "stream",
          "name": "stdout",
          "text": [
            "bird\n"
          ]
        }
      ]
    },
    {
      "cell_type": "code",
      "source": [
        "#Plotting Dataset Images\n",
        "def plot_sam(X,Y,ide):\n",
        "\n",
        "  plt.figure(figsize = (15,2))\n",
        "  plt.imshow(X[ide])\n",
        "  for i in range(10):\n",
        "    if Y[ide][i]==1:\n",
        "      cl = classes[i]\n",
        "  plt.xlabel(cl)\n",
        "  plt.show()\n"
      ],
      "metadata": {
        "id": "nhF3ZbzXC7Cn"
      },
      "execution_count": 47,
      "outputs": []
    },
    {
      "cell_type": "code",
      "source": [
        "plot_sam(X_val,Y_val,1000)\n"
      ],
      "metadata": {
        "colab": {
          "base_uri": "https://localhost:8080/",
          "height": 173
        },
        "id": "89JpLDT0IlbS",
        "outputId": "be76c45e-47b2-4100-835b-d809e6974e2e"
      },
      "execution_count": 48,
      "outputs": [
        {
          "output_type": "display_data",
          "data": {
            "text/plain": [
              "<Figure size 1080x144 with 1 Axes>"
            ],
            "image/png": "[encoded data removed]"
          },
          "metadata": {
            "needs_background": "light"
          }
        }
      ]
    },
    {
      "cell_type": "code",
      "source": [
        "import pandas as pd \n",
        "ann = models.Sequential([layers.Flatten(input_shape=(32,32,3)),\n",
        "                         layers.Flatten(),\n",
        "                         layers.Dense(1000, activation = 'relu'),\n",
        "                         layers.Dense(400, activation = 'relu'),\n",
        "                         layers.Dense(300, activation = 'relu'),\n",
        "                         layers.Dense(200, activation = 'relu'),\n",
        "                         layers.Dense(10, activation = 'softmax')\n",
        "])\n",
        "epochs = [1,2,3,4,5]\n",
        "lr = [0.001, 0.002, 0.003, 0.004, 0.005, 0.006, 0.007, 0.008 , 0.009,0.01]\n",
        "for i in lr:\n",
        "  print('Learning Rate =',i)\n",
        "  ann.compile(tf.keras.optimizers.Adam(learning_rate = i),\n",
        "            loss = 'categorical_crossentropy',\n",
        "            metrics = ['accuracy'])\n",
        "  print('Training Loss and Accuracy')\n",
        "  history =ann.fit(X_train, Y_train, epochs = 5)\n",
        "  pd.DataFrame(history.history).plot(figsize=(8,5))\n",
        "  plt.show()\n",
        "\n",
        "  print('Validation Loss and Accuracy')\n",
        "  history2 = ann.fit(X_val, Y_val, epochs = 5)\n",
        "  pd.DataFrame(history2.history).plot(figsize=(8,5))\n",
        "  plt.show()\n",
        "  # plt.plot(history.history['acc'])\n",
        "  # plt.plot(history2.history['acc'])\n",
        "  # plt.title('model accuracy')\n",
        "  # plt.ylabel('accuracy')\n",
        "  # plt.xlabel('epoch')\n",
        "  # plt.legend(['train', 'val'], loc='upper left')\n",
        "  # plt.show()\n",
        "\n",
        "  # plt.plot(history.history['loss'])\n",
        "  # plt.plot(history2.history['loss'])\n",
        "  # plt.title('model loss')\n",
        "  # plt.ylabel('loss')\n",
        "  # plt.xlabel('epoch')\n",
        "  # plt.legend(['train', 'val'], loc='upper left')\n",
        "  # plt.show()\n"
      ],
      "metadata": {
        "colab": {
          "base_uri": "https://localhost:8080/",
          "height": 1000
        },
        "id": "3cxn9V2U0Tii",
        "outputId": "c9c49e19-38dc-4e61-835d-92b8c1a9bfee"
      },
      "execution_count": null,
      "outputs": [
        {
          "metadata": {
            "tags": null
          },
          "name": "stdout",
          "output_type": "stream",
          "text": [
            "Learning Rate = 0.001\n",
            "Training Loss and Accuracy\n",
            "Epoch 1/5\n",
            "1250/1250 [==============================] - 38s 30ms/step - loss: 1.9080 - accuracy: 0.3007\n",
            "Epoch 2/5\n",
            "1250/1250 [==============================] - 37s 30ms/step - loss: 1.7303 - accuracy: 0.3723\n",
            "Epoch 3/5\n",
            "1250/1250 [==============================] - 39s 31ms/step - loss: 1.6513 - accuracy: 0.4035\n",
            "Epoch 4/5\n",
            "1250/1250 [==============================] - 38s 31ms/step - loss: 1.5926 - accuracy: 0.4263\n",
            "Epoch 5/5\n",
            "1250/1250 [==============================] - 38s 30ms/step - loss: 1.5454 - accuracy: 0.4428\n"
          ]
        },
        {
          "data": {
            "image/png": "[encoded data removed]",
            "text/plain": [
              "<Figure size 576x360 with 1 Axes>"
            ]
          },
          "metadata": {},
          "output_type": "display_data"
        },
        {
          "metadata": {
            "tags": null
          },
          "name": "stdout",
          "output_type": "stream",
          "text": [
            "Validation Loss and Accuracy\n",
            "Epoch 1/5\n",
            "313/313 [==============================] - 9s 29ms/step - loss: 1.5820 - accuracy: 0.4368\n",
            "Epoch 2/5\n",
            "313/313 [==============================] - 9s 30ms/step - loss: 1.5403 - accuracy: 0.4454\n",
            "Epoch 3/5\n",
            "313/313 [==============================] - 10s 32ms/step - loss: 1.4869 - accuracy: 0.4628\n",
            "Epoch 4/5\n",
            "313/313 [==============================] - 9s 30ms/step - loss: 1.4445 - accuracy: 0.4741\n",
            "Epoch 5/5\n",
            "313/313 [==============================] - 9s 29ms/step - loss: 1.4146 - accuracy: 0.4845\n"
          ]
        },
        {
          "data": {
            "image/png": "[encoded data removed]",
            "text/plain": [
              "<Figure size 576x360 with 1 Axes>"
            ]
          },
          "metadata": {},
          "output_type": "display_data"
        },
        {
          "metadata": {
            "tags": null
          },
          "name": "stdout",
          "output_type": "stream",
          "text": [
            "Learning Rate = 0.002\n",
            "Training Loss and Accuracy\n",
            "Epoch 1/5\n",
            "1250/1250 [==============================] - 37s 29ms/step - loss: 1.6220 - accuracy: 0.4137\n",
            "Epoch 2/5\n",
            "1250/1250 [==============================] - 38s 30ms/step - loss: 1.5837 - accuracy: 0.4321\n",
            "Epoch 3/5\n",
            "1250/1250 [==============================] - 37s 30ms/step - loss: 1.5575 - accuracy: 0.4388\n",
            "Epoch 4/5\n",
            "1250/1250 [==============================] - 37s 30ms/step - loss: 1.5270 - accuracy: 0.4500\n",
            "Epoch 5/5\n",
            "1250/1250 [==============================] - 37s 30ms/step - loss: 1.5172 - accuracy: 0.4546\n"
          ]
        },
        {
          "data": {
            "image/png": "[encoded data removed]",
            "text/plain": [
              "<Figure size 576x360 with 1 Axes>"
            ]
          },
          "metadata": {},
          "output_type": "display_data"
        },
        {
          "metadata": {
            "tags": null
          },
          "name": "stdout",
          "output_type": "stream",
          "text": [
            "Validation Loss and Accuracy\n",
            "Epoch 1/5\n",
            "313/313 [==============================] - 10s 30ms/step - loss: 1.5526 - accuracy: 0.4473\n",
            "Epoch 2/5\n",
            "313/313 [==============================] - 10s 31ms/step - loss: 1.5058 - accuracy: 0.4618\n",
            "Epoch 3/5\n",
            "313/313 [==============================] - 9s 29ms/step - loss: 1.4705 - accuracy: 0.4693\n",
            "Epoch 4/5\n",
            "313/313 [==============================] - 12s 39ms/step - loss: 1.4355 - accuracy: 0.4786\n",
            "Epoch 5/5\n",
            "313/313 [==============================] - 11s 34ms/step - loss: 1.4045 - accuracy: 0.4950\n"
          ]
        },
        {
          "data": {
            "image/png": "[encoded data removed]",
            "text/plain": [
              "<Figure size 576x360 with 1 Axes>"
            ]
          },
          "metadata": {},
          "output_type": "display_data"
        },
        {
          "metadata": {
            "tags": null
          },
          "name": "stdout",
          "output_type": "stream",
          "text": [
            "Learning Rate = 0.003\n",
            "Training Loss and Accuracy\n",
            "Epoch 1/5\n",
            "1250/1250 [==============================] - 41s 32ms/step - loss: 1.6069 - accuracy: 0.4249\n",
            "Epoch 2/5\n",
            "1250/1250 [==============================] - 38s 30ms/step - loss: 1.5731 - accuracy: 0.4370\n",
            "Epoch 3/5\n",
            "1250/1250 [==============================] - 39s 31ms/step - loss: 1.5509 - accuracy: 0.4442\n",
            "Epoch 4/5\n",
            "1250/1250 [==============================] - 39s 31ms/step - loss: 1.5478 - accuracy: 0.4436\n",
            "Epoch 5/5\n",
            "1250/1250 [==============================] - 40s 32ms/step - loss: 1.5258 - accuracy: 0.4549\n"
          ]
        },
        {
          "data": {
            "image/png": "[encoded data removed]",
            "text/plain": [
              "<Figure size 576x360 with 1 Axes>"
            ]
          },
          "metadata": {},
          "output_type": "display_data"
        },
        {
          "metadata": {
            "tags": null
          },
          "name": "stdout",
          "output_type": "stream",
          "text": [
            "Validation Loss and Accuracy\n",
            "Epoch 1/5\n",
            "313/313 [==============================] - 10s 31ms/step - loss: 1.5821 - accuracy: 0.4356\n",
            "Epoch 2/5\n",
            "313/313 [==============================] - 11s 34ms/step - loss: 1.5235 - accuracy: 0.4584\n",
            "Epoch 3/5\n",
            "313/313 [==============================] - 11s 34ms/step - loss: 1.4890 - accuracy: 0.4656\n",
            "Epoch 4/5\n",
            "313/313 [==============================] - 10s 32ms/step - loss: 1.4823 - accuracy: 0.4690\n",
            "Epoch 5/5\n",
            "313/313 [==============================] - 9s 30ms/step - loss: 1.4651 - accuracy: 0.4753\n"
          ]
        },
        {
          "data": {
            "image/png": "[encoded data removed]",
            "text/plain": [
              "<Figure size 576x360 with 1 Axes>"
            ]
          },
          "metadata": {},
          "output_type": "display_data"
        },
        {
          "metadata": {
            "tags": null
          },
          "name": "stdout",
          "output_type": "stream",
          "text": [
            "Learning Rate = 0.004\n",
            "Training Loss and Accuracy\n",
            "Epoch 1/5\n",
            "1250/1250 [==============================] - 41s 32ms/step - loss: 1.6139 - accuracy: 0.4268\n",
            "Epoch 2/5\n",
            "1250/1250 [==============================] - 40s 32ms/step - loss: 1.5788 - accuracy: 0.4374\n",
            "Epoch 3/5\n",
            "1250/1250 [==============================] - 39s 31ms/step - loss: 1.5544 - accuracy: 0.4423\n",
            "Epoch 4/5\n",
            "1250/1250 [==============================] - 40s 32ms/step - loss: 1.5568 - accuracy: 0.4441\n",
            "Epoch 5/5\n",
            "1250/1250 [==============================] - 40s 32ms/step - loss: 1.5487 - accuracy: 0.4441\n"
          ]
        },
        {
          "data": {
            "image/png": "[encoded data removed]",
            "text/plain": [
              "<Figure size 576x360 with 1 Axes>"
            ]
          },
          "metadata": {},
          "output_type": "display_data"
        },
        {
          "metadata": {
            "tags": null
          },
          "name": "stdout",
          "output_type": "stream",
          "text": [
            "Validation Loss and Accuracy\n",
            "Epoch 1/5\n",
            "313/313 [==============================] - 10s 31ms/step - loss: 1.5955 - accuracy: 0.4337\n",
            "Epoch 2/5\n",
            "313/313 [==============================] - 11s 34ms/step - loss: 1.5397 - accuracy: 0.4496\n",
            "Epoch 3/5\n",
            "313/313 [==============================] - 10s 31ms/step - loss: 1.5230 - accuracy: 0.4571\n",
            "Epoch 4/5\n",
            "313/313 [==============================] - 10s 31ms/step - loss: 1.4940 - accuracy: 0.4600\n",
            "Epoch 5/5\n",
            "313/313 [==============================] - 10s 31ms/step - loss: 1.5064 - accuracy: 0.4598\n"
          ]
        },
        {
          "data": {
            "image/png": "[encoded data removed]",
            "text/plain": [
              "<Figure size 576x360 with 1 Axes>"
            ]
          },
          "metadata": {},
          "output_type": "display_data"
        },
        {
          "metadata": {
            "tags": null
          },
          "name": "stdout",
          "output_type": "stream",
          "text": [
            "Learning Rate = 0.005\n",
            "Training Loss and Accuracy\n",
            "Epoch 1/5\n",
            "1250/1250 [==============================] - 40s 31ms/step - loss: 1.6118 - accuracy: 0.4259\n",
            "Epoch 2/5\n",
            "1250/1250 [==============================] - 40s 32ms/step - loss: 1.6181 - accuracy: 0.4231\n",
            "Epoch 3/5\n",
            "1250/1250 [==============================] - 38s 30ms/step - loss: 1.5868 - accuracy: 0.4324\n",
            "Epoch 4/5\n",
            "1250/1250 [==============================] - 39s 31ms/step - loss: 1.5808 - accuracy: 0.4335\n",
            "Epoch 5/5\n",
            "1250/1250 [==============================] - 39s 31ms/step - loss: 1.5810 - accuracy: 0.4362\n"
          ]
        },
        {
          "data": {
            "image/png": "[encoded data removed]",
            "text/plain": [
              "<Figure size 576x360 with 1 Axes>"
            ]
          },
          "metadata": {},
          "output_type": "display_data"
        },
        {
          "metadata": {
            "tags": null
          },
          "name": "stdout",
          "output_type": "stream",
          "text": [
            "Validation Loss and Accuracy\n",
            "Epoch 1/5\n",
            "313/313 [==============================] - 10s 30ms/step - loss: 1.6067 - accuracy: 0.4352\n",
            "Epoch 2/5\n",
            "313/313 [==============================] - 10s 31ms/step - loss: 1.5968 - accuracy: 0.4285\n",
            "Epoch 3/5\n",
            "313/313 [==============================] - 11s 34ms/step - loss: 1.5544 - accuracy: 0.4471\n",
            "Epoch 4/5\n",
            "313/313 [==============================] - 10s 31ms/step - loss: 1.5432 - accuracy: 0.4513\n",
            "Epoch 5/5\n",
            "313/313 [==============================] - 10s 31ms/step - loss: 1.5304 - accuracy: 0.4560\n"
          ]
        },
        {
          "data": {
            "image/png": "[encoded data removed]",
            "text/plain": [
              "<Figure size 576x360 with 1 Axes>"
            ]
          },
          "metadata": {},
          "output_type": "display_data"
        },
        {
          "metadata": {
            "tags": null
          },
          "name": "stdout",
          "output_type": "stream",
          "text": [
            "Learning Rate = 0.006\n",
            "Training Loss and Accuracy\n",
            "Epoch 1/5\n",
            "1250/1250 [==============================] - 40s 32ms/step - loss: 1.6395 - accuracy: 0.4147\n",
            "Epoch 2/5\n",
            "1250/1250 [==============================] - 38s 31ms/step - loss: 1.6117 - accuracy: 0.4250\n",
            "Epoch 3/5\n",
            "1250/1250 [==============================] - 40s 32ms/step - loss: 1.6119 - accuracy: 0.4259\n",
            "Epoch 4/5\n",
            "1250/1250 [==============================] - 41s 33ms/step - loss: 1.6257 - accuracy: 0.4196\n",
            "Epoch 5/5\n",
            "1250/1250 [==============================] - 40s 32ms/step - loss: 1.5950 - accuracy: 0.4302\n"
          ]
        },
        {
          "data": {
            "image/png": "[encoded data removed]",
            "text/plain": [
              "<Figure size 576x360 with 1 Axes>"
            ]
          },
          "metadata": {},
          "output_type": "display_data"
        },
        {
          "metadata": {
            "tags": null
          },
          "name": "stdout",
          "output_type": "stream",
          "text": [
            "Validation Loss and Accuracy\n",
            "Epoch 1/5\n",
            "313/313 [==============================] - 10s 32ms/step - loss: 1.6052 - accuracy: 0.4303\n",
            "Epoch 2/5\n",
            "313/313 [==============================] - 10s 31ms/step - loss: 1.5980 - accuracy: 0.4238\n",
            "Epoch 3/5\n",
            "313/313 [==============================] - 11s 34ms/step - loss: 1.5635 - accuracy: 0.4421\n",
            "Epoch 4/5\n",
            "313/313 [==============================] - 10s 30ms/step - loss: 1.5454 - accuracy: 0.4438\n",
            "Epoch 5/5\n",
            "313/313 [==============================] - 10s 31ms/step - loss: 1.5385 - accuracy: 0.4460\n"
          ]
        },
        {
          "data": {
            "image/png": "[encoded data removed]",
            "text/plain": [
              "<Figure size 576x360 with 1 Axes>"
            ]
          },
          "metadata": {},
          "output_type": "display_data"
        },
        {
          "metadata": {
            "tags": null
          },
          "name": "stdout",
          "output_type": "stream",
          "text": [
            "Learning Rate = 0.007\n",
            "Training Loss and Accuracy\n",
            "Epoch 1/5\n",
            "1250/1250 [==============================] - 39s 31ms/step - loss: 1.6408 - accuracy: 0.4144\n",
            "Epoch 2/5\n",
            "1250/1250 [==============================] - 38s 31ms/step - loss: 1.6848 - accuracy: 0.3990\n",
            "Epoch 3/5\n",
            "1250/1250 [==============================] - 38s 31ms/step - loss: 1.8309 - accuracy: 0.3416\n",
            "Epoch 4/5\n",
            "1250/1250 [==============================] - 38s 30ms/step - loss: 1.9360 - accuracy: 0.2560\n",
            "Epoch 5/5\n",
            "1250/1250 [==============================] - 39s 31ms/step - loss: 1.9406 - accuracy: 0.2272\n"
          ]
        },
        {
          "data": {
            "image/png": "[encoded data removed]",
            "text/plain": [
              "<Figure size 576x360 with 1 Axes>"
            ]
          },
          "metadata": {},
          "output_type": "display_data"
        },
        {
          "metadata": {
            "tags": null
          },
          "name": "stdout",
          "output_type": "stream",
          "text": [
            "Validation Loss and Accuracy\n",
            "Epoch 1/5\n",
            "313/313 [==============================] - 10s 31ms/step - loss: 1.8555 - accuracy: 0.2912\n",
            "Epoch 2/5\n",
            "313/313 [==============================] - 10s 33ms/step - loss: 1.8322 - accuracy: 0.2914\n",
            "Epoch 3/5\n",
            "313/313 [==============================] - 10s 31ms/step - loss: 1.8274 - accuracy: 0.3154\n",
            "Epoch 4/5\n",
            "313/313 [==============================] - 10s 30ms/step - loss: 1.7728 - accuracy: 0.3314\n",
            "Epoch 5/5\n",
            "313/313 [==============================] - 10s 31ms/step - loss: 1.7319 - accuracy: 0.3535\n"
          ]
        },
        {
          "data": {
            "image/png": "[encoded data removed]",
            "text/plain": [
              "<Figure size 576x360 with 1 Axes>"
            ]
          },
          "metadata": {},
          "output_type": "display_data"
        },
        {
          "metadata": {
            "tags": null
          },
          "name": "stdout",
          "output_type": "stream",
          "text": [
            "Learning Rate = 0.008\n",
            "Training Loss and Accuracy\n",
            "Epoch 1/5\n",
            "1250/1250 [==============================] - 42s 33ms/step - loss: 1.7546 - accuracy: 0.3444\n",
            "Epoch 2/5\n",
            "1250/1250 [==============================] - 41s 33ms/step - loss: 1.7510 - accuracy: 0.3523\n",
            "Epoch 3/5\n",
            "1250/1250 [==============================] - 41s 33ms/step - loss: 1.7558 - accuracy: 0.3508\n",
            "Epoch 4/5\n",
            "1250/1250 [==============================] - 41s 33ms/step - loss: 1.7035 - accuracy: 0.3720\n",
            "Epoch 5/5\n",
            "1250/1250 [==============================] - 41s 33ms/step - loss: 1.6854 - accuracy: 0.3843\n"
          ]
        },
        {
          "data": {
            "image/png": "[encoded data removed]",
            "text/plain": [
              "<Figure size 576x360 with 1 Axes>"
            ]
          },
          "metadata": {},
          "output_type": "display_data"
        },
        {
          "metadata": {
            "tags": null
          },
          "name": "stdout",
          "output_type": "stream",
          "text": [
            "Validation Loss and Accuracy\n",
            "Epoch 1/5\n",
            "313/313 [==============================] - 10s 32ms/step - loss: 1.6905 - accuracy: 0.3736\n",
            "Epoch 2/5\n",
            "313/313 [==============================] - 10s 32ms/step - loss: 1.6785 - accuracy: 0.3831\n",
            "Epoch 3/5\n",
            "313/313 [==============================] - 10s 32ms/step - loss: 1.7173 - accuracy: 0.3764\n",
            "Epoch 4/5\n",
            "313/313 [==============================] - 12s 37ms/step - loss: 1.6735 - accuracy: 0.3859\n",
            "Epoch 5/5\n",
            "313/313 [==============================] - 11s 34ms/step - loss: 1.6523 - accuracy: 0.3923\n"
          ]
        },
        {
          "data": {
            "image/png": "[encoded data removed]",
            "text/plain": [
              "<Figure size 576x360 with 1 Axes>"
            ]
          },
          "metadata": {},
          "output_type": "display_data"
        },
        {
          "metadata": {
            "tags": null
          },
          "name": "stdout",
          "output_type": "stream",
          "text": [
            "Learning Rate = 0.009\n",
            "Training Loss and Accuracy\n",
            "Epoch 1/5\n",
            "1250/1250 [==============================] - 41s 33ms/step - loss: 1.7166 - accuracy: 0.3636\n",
            "Epoch 2/5\n",
            "1250/1250 [==============================] - 44s 35ms/step - loss: 1.7017 - accuracy: 0.3726\n",
            "Epoch 3/5\n",
            "1250/1250 [==============================] - 40s 32ms/step - loss: 1.7308 - accuracy: 0.3589\n",
            "Epoch 4/5\n",
            "1250/1250 [==============================] - 40s 32ms/step - loss: 1.6981 - accuracy: 0.3715\n",
            "Epoch 5/5\n",
            "1250/1250 [==============================] - 40s 32ms/step - loss: 1.6795 - accuracy: 0.3802\n"
          ]
        },
        {
          "data": {
            "image/png": "[encoded data removed]",
            "text/plain": [
              "<Figure size 576x360 with 1 Axes>"
            ]
          },
          "metadata": {},
          "output_type": "display_data"
        },
        {
          "metadata": {
            "tags": null
          },
          "name": "stdout",
          "output_type": "stream",
          "text": [
            "Validation Loss and Accuracy\n",
            "Epoch 1/5\n",
            "313/313 [==============================] - 10s 31ms/step - loss: 1.7018 - accuracy: 0.3722\n",
            "Epoch 2/5\n",
            "313/313 [==============================] - 11s 34ms/step - loss: 1.6823 - accuracy: 0.3787\n",
            "Epoch 3/5\n",
            "313/313 [==============================] - 10s 31ms/step - loss: 1.6546 - accuracy: 0.3836\n",
            "Epoch 4/5\n",
            "313/313 [==============================] - 10s 32ms/step - loss: 1.6773 - accuracy: 0.3769\n",
            "Epoch 5/5\n",
            "313/313 [==============================] - 10s 31ms/step - loss: 1.7684 - accuracy: 0.3249\n"
          ]
        },
        {
          "data": {
            "image/png": "[encoded data removed]",
            "text/plain": [
              "<Figure size 576x360 with 1 Axes>"
            ]
          },
          "metadata": {},
          "output_type": "display_data"
        },
        {
          "output_type": "stream",
          "name": "stdout",
          "text": [
            "Learning Rate = 0.01\n",
            "Training Loss and Accuracy\n",
            "Epoch 1/5\n",
            "1250/1250 [==============================] - 42s 33ms/step - loss: 1.7462 - accuracy: 0.3513\n",
            "Epoch 2/5\n",
            "1250/1250 [==============================] - 40s 32ms/step - loss: 1.7443 - accuracy: 0.3513\n",
            "Epoch 3/5\n",
            "1250/1250 [==============================] - 40s 32ms/step - loss: 1.7624 - accuracy: 0.3447\n",
            "Epoch 4/5\n",
            "1250/1250 [==============================] - 39s 31ms/step - loss: 1.7484 - accuracy: 0.3426\n",
            "Epoch 5/5\n",
            " 730/1250 [================>.............] - ETA: 15s - loss: 1.8222 - accuracy: 0.3054"
          ]
        }
      ]
    },
    {
      "cell_type": "code",
      "source": [
        "# ann.evaluate(X_test,Y_test)"
      ],
      "metadata": {
        "id": "bqwGnXEVNvza"
      },
      "execution_count": null,
      "outputs": []
    }
  ]
}