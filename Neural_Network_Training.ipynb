{
  "nbformat": 4,
  "nbformat_minor": 0,
  "metadata": {
    "colab": {
      "provenance": [],
      "authorship_tag": "ABX9TyNP8ZmJgs6C32AfSSKP17qS",
      "include_colab_link": true
    },
    "kernelspec": {
      "name": "python3",
      "display_name": "Python 3"
    },
    "language_info": {
      "name": "python"
    }
  },
  "cells": [
    {
      "cell_type": "markdown",
      "metadata": {
        "id": "view-in-github",
        "colab_type": "text"
      },
      "source": [
        "<a href=\"https://colab.research.google.com/github/maffant20/Assignment-5/blob/main/Neural_Network_Training.ipynb\" target=\"_parent\"><img src=\"https://colab.research.google.com/assets/colab-badge.svg\" alt=\"Open In Colab\"/></a>"
      ]
    },
    {
      "cell_type": "code",
      "execution_count": 12,
      "metadata": {
        "colab": {
          "base_uri": "https://localhost:8080/"
        },
        "id": "-OW4Tuy1iQZC",
        "outputId": "1306b74c-2fc0-45eb-dace-105849abce05"
      },
      "outputs": [
        {
          "output_type": "stream",
          "name": "stdout",
          "text": [
            "Training Images Size: (50000, 32, 32, 3)\n",
            "(32, 32, 3)\n"
          ]
        }
      ],
      "source": [
        "import tensorflow as tf\n",
        "from tensorflow.keras import datasets,layers,models\n",
        "import keras\n",
        "from keras.models import Sequential\n",
        "from keras.layers import Dense, Dropout, Flatten\n",
        "from keras.optimizers import SGD\n",
        "from keras.constraints import maxnorm\n",
        "from keras.layers import Conv2D, MaxPooling2D\n",
        "from keras.datasets import cifar10\n",
        "from keras.utils import np_utils\n",
        "from matplotlib import pyplot as plt\n",
        "import numpy as np\n",
        "from PIL import Image\n",
        "from sklearn.model_selection import train_test_split\n",
        "\n",
        "#Load Data\n",
        "np.random.seed(6) #For reproducibility\n",
        "(X_train, Y_train),(X_test, Y_test) = cifar10.load_data()\n",
        "\n",
        "#Dataset characteristics\n",
        "print('Training Images Size: {}'.format(X_train.shape))\n",
        "print(X_train[0].shape)"
      ]
    },
    {
      "cell_type": "code",
      "source": [
        "print(X_train.shape)\n",
        "print(Y_train.shape)\n"
      ],
      "metadata": {
        "colab": {
          "base_uri": "https://localhost:8080/"
        },
        "id": "A0NDrj-AiW-Q",
        "outputId": "50fa4734-2c4e-4d36-aef0-176af10b3d16"
      },
      "execution_count": 13,
      "outputs": [
        {
          "output_type": "stream",
          "name": "stdout",
          "text": [
            "(50000, 32, 32, 3)\n",
            "(50000, 1)\n"
          ]
        }
      ]
    },
    {
      "cell_type": "code",
      "source": [
        "classes = ['airplane','automobile','bird','cat','deer','dog','frog','horse','ship','truck']\n",
        "X_train = X_train.astype('float32')\n",
        "X_test = X_test.astype('float32')\n",
        "X_train /= 255\n",
        "X_test /= 255\n",
        "Y_train = np_utils.to_categorical(Y_train)\n",
        "Y_test = np_utils.to_categorical(Y_test)\n",
        "num_classes = Y_test.shape[1]\n",
        "print(Y_train.shape)\n",
        "print(Y_train[0])\n"
      ],
      "metadata": {
        "colab": {
          "base_uri": "https://localhost:8080/"
        },
        "id": "ElIAjqFBimyU",
        "outputId": "fa22fd5c-217f-48bf-ff19-c6f5584ee476"
      },
      "execution_count": 14,
      "outputs": [
        {
          "output_type": "stream",
          "name": "stdout",
          "text": [
            "(50000, 10)\n",
            "[0. 0. 0. 0. 0. 0. 1. 0. 0. 0.]\n"
          ]
        }
      ]
    },
    {
      "cell_type": "code",
      "source": [
        "def plot_sam(X,Y,ide):\n",
        "\n",
        "  plt.figure(figsize = (15,2))\n",
        "  plt.imshow(X[ide])\n",
        "  for i in range(10):\n",
        "    if Y[ide][i]==1:\n",
        "      cl = classes[i]\n",
        "  plt.xlabel(cl)\n",
        "  plt.show()"
      ],
      "metadata": {
        "id": "2tIua5baizIC"
      },
      "execution_count": 15,
      "outputs": []
    },
    {
      "cell_type": "code",
      "source": [
        "\n",
        "ann = models.Sequential([layers.Flatten(input_shape=(32,32,3)),\n",
        "                         layers.Flatten(),\n",
        "                         layers.Dense(1000, activation = 'relu'),\n",
        "                         layers.Dense(400, activation = 'relu'),\n",
        "                         layers.Dense(300, activation = 'relu'),\n",
        "                         layers.Dense(200, activation = 'relu'),\n",
        "                         layers.Dense(10, activation = 'softmax')\n",
        "])\n",
        "ann.compile(tf.keras.optimizers.Adam(learning_rate = 0.003),\n",
        "            loss = 'categorical_crossentropy',\n",
        "            metrics = ['accuracy'])\n",
        "print('Training Loss and Accuracy')\n",
        "history =ann.fit(X_train, Y_train, epochs = 5)\n"
      ],
      "metadata": {
        "colab": {
          "base_uri": "https://localhost:8080/"
        },
        "id": "DfwnnVmLjCzb",
        "outputId": "3e661311-1c6f-4c27-fb47-c58153c825a1"
      },
      "execution_count": 16,
      "outputs": [
        {
          "output_type": "stream",
          "name": "stdout",
          "text": [
            "Training Loss and Accuracy\n",
            "Epoch 1/5\n",
            "1563/1563 [==============================] - 51s 32ms/step - loss: 1.9611 - accuracy: 0.2825\n",
            "Epoch 2/5\n",
            "1563/1563 [==============================] - 48s 31ms/step - loss: 1.8034 - accuracy: 0.3463\n",
            "Epoch 3/5\n",
            "1563/1563 [==============================] - 47s 30ms/step - loss: 1.7466 - accuracy: 0.3684\n",
            "Epoch 4/5\n",
            "1563/1563 [==============================] - 47s 30ms/step - loss: 1.7083 - accuracy: 0.3818\n",
            "Epoch 5/5\n",
            "1563/1563 [==============================] - 48s 31ms/step - loss: 1.6826 - accuracy: 0.3929\n"
          ]
        }
      ]
    },
    {
      "cell_type": "markdown",
      "source": [
        "Accuracy is pretty low i.e., 39.29%"
      ],
      "metadata": {
        "id": "qbBj_sFvml8o"
      }
    },
    {
      "cell_type": "code",
      "source": [
        "import pandas as pd\n",
        "pd.DataFrame(history.history).plot(figsize=(8,5))\n",
        "plt.show()"
      ],
      "metadata": {
        "colab": {
          "base_uri": "https://localhost:8080/",
          "height": 320
        },
        "id": "5nrJtyxqkWI_",
        "outputId": "b95fec10-2d25-48de-e1dd-742bf15949db"
      },
      "execution_count": 17,
      "outputs": [
        {
          "output_type": "display_data",
          "data": {
            "text/plain": [
              "<Figure size 576x360 with 1 Axes>"
            ],
            "image/png": "[encoded data removed]"
          },
          "metadata": {
            "needs_background": "light"
          }
        }
      ]
    },
    {
      "cell_type": "code",
      "source": [
        "ann.evaluate(X_test, Y_test)"
      ],
      "metadata": {
        "colab": {
          "base_uri": "https://localhost:8080/"
        },
        "id": "dG-odeTrmgkK",
        "outputId": "ca9cf687-c0e8-4b7d-c331-efb4f628b35d"
      },
      "execution_count": 18,
      "outputs": [
        {
          "output_type": "stream",
          "name": "stdout",
          "text": [
            "313/313 [==============================] - 4s 12ms/step - loss: 1.6870 - accuracy: 0.3992\n"
          ]
        },
        {
          "output_type": "execute_result",
          "data": {
            "text/plain": [
              "[1.6869622468948364, 0.3991999924182892]"
            ]
          },
          "metadata": {},
          "execution_count": 18
        }
      ]
    },
    {
      "cell_type": "markdown",
      "source": [
        "Same accuracy on Test Set"
      ],
      "metadata": {
        "id": "p8CjMDHzm3Ww"
      }
    },
    {
      "cell_type": "code",
      "source": [
        "from sklearn.metrics import confusion_matrix, classification_report\n",
        "y_pred = ann.predict(X_test)\n",
        "print(y_pred.shape)\n",
        "y_pred_classes = [np.argmax(element) for element in y_pred]\n",
        "print(y_pred_classes)\n"
      ],
      "metadata": {
        "colab": {
          "base_uri": "https://localhost:8080/"
        },
        "id": "Mogh7I8bm9AY",
        "outputId": "ba20b20b-ab77-4b0d-c93d-089689e7b68a"
      },
      "execution_count": 21,
      "outputs": [
        {
          "output_type": "stream",
          "name": "stdout",
          "text": [
            "313/313 [==============================] - 3s 10ms/step\n",
            "(10000, 10)\n",
            "[3, 8, 8, 8, 4, 6, 3, 2, 2, 1, 8, 9, 6, 7, 9, 8, 3, 0, 8, 6, 2, 0, 0, 1, 2, 6, 6, 0, 1, 6, 6, 5, 2, 5, 9, 7, 3, 9, 1, 3, 8, 6, 9, 6, 0, 9, 3, 8, 4, 4, 9, 0, 6, 3, 8, 8, 5, 1, 9, 2, 4, 3, 7, 9, 6, 2, 1, 0, 3, 9, 2, 4, 8, 8, 9, 2, 9, 3, 3, 8, 8, 1, 1, 0, 0, 0, 8, 8, 8, 8, 8, 2, 8, 2, 2, 3, 2, 0, 2, 7, 0, 3, 6, 3, 1, 1, 3, 6, 8, 5, 6, 2, 6, 2, 9, 6, 0, 9, 6, 5, 8, 3, 1, 4, 8, 6, 8, 5, 3, 0, 2, 1, 9, 9, 1, 2, 9, 2, 2, 8, 3, 8, 9, 3, 8, 0, 6, 5, 5, 5, 8, 8, 0, 8, 0, 3, 2, 8, 3, 0, 0, 1, 3, 4, 8, 7, 8, 6, 7, 9, 9, 0, 8, 8, 7, 9, 8, 3, 3, 0, 8, 7, 6, 8, 7, 8, 6, 3, 0, 0, 6, 3, 2, 3, 7, 4, 9, 0, 5, 0, 5, 8, 8, 2, 8, 3, 8, 3, 7, 8, 3, 1, 1, 9, 9, 3, 8, 9, 0, 7, 2, 3, 8, 3, 9, 7, 3, 2, 0, 3, 5, 1, 6, 3, 8, 0, 6, 0, 3, 5, 1, 8, 7, 8, 0, 6, 7, 0, 2, 1, 2, 3, 3, 9, 6, 0, 1, 9, 8, 3, 8, 8, 3, 3, 0, 8, 8, 4, 9, 0, 2, 3, 6, 5, 1, 2, 9, 2, 3, 5, 7, 3, 0, 1, 8, 9, 8, 8, 0, 9, 1, 6, 6, 8, 3, 2, 6, 0, 0, 4, 6, 5, 2, 8, 6, 8, 8, 2, 1, 4, 8, 6, 0, 0, 0, 2, 4, 5, 5, 3, 3, 3, 7, 6, 3, 9, 2, 2, 0, 6, 6, 9, 2, 6, 4, 6, 3, 8, 0, 9, 5, 5, 0, 3, 8, 5, 2, 3, 8, 1, 9, 1, 8, 0, 3, 3, 4, 3, 8, 8, 9, 5, 8, 8, 9, 0, 7, 9, 0, 4, 6, 0, 9, 2, 2, 2, 8, 2, 8, 6, 2, 9, 0, 8, 6, 0, 0, 4, 2, 3, 1, 0, 6, 7, 3, 2, 3, 3, 9, 1, 9, 1, 6, 8, 9, 6, 0, 9, 8, 2, 8, 0, 2, 4, 9, 8, 2, 1, 3, 7, 6, 2, 8, 6, 2, 8, 5, 4, 7, 0, 6, 5, 3, 3, 7, 7, 8, 4, 3, 6, 2, 2, 9, 1, 8, 7, 8, 0, 2, 0, 9, 9, 7, 2, 9, 2, 2, 4, 6, 8, 3, 6, 1, 3, 8, 6, 7, 2, 3, 3, 3, 3, 0, 0, 2, 0, 7, 8, 2, 5, 1, 6, 8, 2, 7, 8, 9, 9, 8, 0, 1, 9, 0, 1, 8, 8, 3, 2, 2, 0, 4, 6, 2, 6, 1, 2, 3, 9, 1, 4, 3, 4, 6, 1, 3, 9, 8, 1, 9, 8, 3, 8, 0, 9, 0, 3, 2, 0, 0, 6, 9, 8, 1, 8, 6, 6, 6, 4, 8, 9, 1, 0, 6, 5, 5, 9, 8, 6, 4, 8, 5, 2, 8, 2, 3, 8, 6, 5, 5, 4, 8, 7, 3, 6, 4, 5, 8, 7, 8, 3, 3, 7, 1, 1, 3, 5, 8, 9, 7, 9, 4, 0, 0, 2, 0, 8, 3, 2, 8, 9, 6, 1, 2, 6, 9, 1, 7, 3, 6, 3, 8, 8, 0, 3, 1, 3, 3, 3, 3, 9, 6, 1, 8, 8, 6, 8, 3, 6, 0, 1, 5, 4, 1, 2, 7, 1, 1, 4, 4, 5, 8, 2, 6, 8, 2, 3, 9, 9, 8, 6, 6, 6, 8, 7, 8, 1, 3, 2, 2, 4, 3, 0, 3, 2, 8, 0, 1, 1, 5, 9, 9, 4, 7, 6, 3, 8, 3, 0, 9, 3, 6, 3, 3, 6, 6, 0, 2, 9, 2, 2, 9, 6, 8, 8, 1, 3, 4, 8, 6, 9, 2, 2, 0, 7, 8, 7, 8, 6, 4, 5, 7, 0, 6, 0, 2, 2, 0, 5, 8, 8, 2, 8, 8, 7, 2, 3, 6, 9, 4, 8, 9, 8, 9, 1, 9, 0, 1, 0, 6, 7, 3, 0, 7, 9, 2, 2, 0, 0, 1, 2, 6, 5, 7, 7, 1, 2, 6, 3, 2, 3, 9, 0, 1, 1, 4, 2, 6, 8, 0, 1, 9, 7, 0, 9, 8, 2, 7, 8, 2, 0, 3, 7, 6, 3, 0, 4, 2, 3, 2, 6, 0, 1, 4, 3, 7, 0, 3, 8, 6, 8, 2, 0, 0, 9, 0, 2, 6, 3, 5, 0, 7, 1, 0, 7, 2, 4, 8, 2, 4, 0, 8, 3, 7, 4, 8, 8, 9, 3, 2, 3, 3, 0, 8, 8, 2, 8, 7, 3, 2, 0, 8, 3, 2, 6, 4, 3, 9, 7, 9, 2, 7, 8, 7, 2, 7, 0, 4, 8, 2, 4, 5, 1, 8, 9, 0, 0, 9, 0, 7, 8, 4, 3, 6, 0, 0, 1, 1, 3, 0, 8, 6, 1, 4, 0, 5, 8, 4, 3, 8, 7, 8, 3, 0, 0, 9, 0, 8, 7, 8, 4, 3, 4, 3, 0, 3, 1, 3, 0, 5, 3, 4, 3, 4, 5, 8, 0, 9, 6, 8, 3, 4, 3, 3, 7, 6, 9, 9, 8, 8, 2, 2, 9, 9, 3, 3, 5, 9, 3, 0, 8, 4, 5, 3, 1, 7, 0, 2, 7, 1, 3, 1, 9, 7, 4, 8, 3, 0, 3, 3, 8, 2, 9, 2, 1, 4, 7, 0, 1, 8, 8, 9, 1, 3, 4, 6, 5, 3, 1, 1, 9, 9, 4, 2, 1, 0, 0, 1, 8, 1, 1, 6, 8, 3, 8, 7, 8, 8, 8, 2, 2, 1, 6, 8, 0, 3, 7, 8, 8, 5, 8, 5, 3, 8, 2, 8, 1, 6, 0, 0, 6, 0, 8, 6, 1, 2, 6, 1, 6, 0, 8, 1, 2, 0, 0, 3, 1, 6, 7, 0, 6, 1, 8, 4, 3, 3, 6, 6, 7, 2, 2, 5, 8, 0, 0, 8, 3, 2, 8, 1, 1, 3, 6, 8, 5, 2, 0, 3, 3, 6, 0, 9, 0, 1, 6, 3, 9, 1, 0, 8, 6, 3, 6, 9, 7, 3, 8, 0, 0, 0, 3, 6, 3, 8, 6, 2, 4, 2, 3, 5, 6, 0, 8, 7, 2, 5, 2, 7, 2, 9, 2, 0, 8, 8, 0, 9, 2, 3, 2, 2, 0, 2, 8, 3, 8, 9, 1, 3, 5, 7, 7, 0, 2, 1, 3, 2, 6, 0, 8, 3, 0, 8, 1, 3, 0, 8, 3, 1, 9, 5, 8, 6, 1, 8, 3, 8, 2, 7, 1, 6, 9, 7, 2, 8, 9, 6, 3, 7, 7, 1, 8, 8, 3, 7, 2, 8, 0, 3, 2, 0, 0, 2, 9, 2, 0, 0, 9, 7, 9, 2, 6, 9, 3, 8, 0, 1, 1, 2, 1, 0, 2, 9, 1, 6, 2, 0, 3, 5, 0, 3, 3, 8, 7, 6, 0, 6, 8, 1, 8, 2, 7, 8, 2, 1, 0, 5, 5, 1, 2, 8, 5, 3, 8, 0, 0, 2, 6, 6, 3, 8, 3, 0, 1, 1, 0, 1, 5, 4, 0, 1, 3, 6, 8, 8, 3, 3, 3, 9, 5, 2, 2, 7, 3, 5, 1, 0, 0, 8, 3, 6, 8, 9, 8, 3, 8, 8, 9, 8, 4, 2, 6, 9, 8, 2, 2, 3, 3, 1, 3, 2, 8, 7, 8, 9, 8, 3, 7, 9, 8, 1, 8, 5, 8, 6, 7, 0, 0, 3, 0, 8, 0, 6, 1, 2, 2, 2, 9, 3, 0, 6, 3, 8, 8, 2, 1, 1, 0, 3, 1, 3, 2, 0, 6, 8, 8, 8, 2, 6, 6, 3, 3, 0, 0, 8, 1, 2, 8, 2, 2, 6, 6, 8, 4, 6, 8, 6, 2, 2, 8, 6, 8, 6, 0, 2, 2, 0, 3, 7, 8, 8, 9, 2, 9, 8, 8, 4, 0, 8, 4, 0, 8, 1, 1, 1, 7, 0, 7, 1, 8, 0, 0, 3, 3, 2, 3, 1, 5, 8, 8, 5, 2, 6, 8, 7, 8, 4, 3, 1, 0, 8, 0, 5, 2, 5, 2, 8, 3, 9, 8, 1, 2, 6, 8, 1, 1, 9, 5, 7, 9, 2, 8, 7, 2, 8, 2, 0, 3, 2, 0, 7, 7, 0, 4, 9, 3, 8, 1, 7, 8, 2, 8, 0, 2, 3, 6, 1, 5, 0, 8, 2, 6, 6, 2, 3, 4, 5, 0, 6, 1, 0, 8, 6, 8, 2, 0, 1, 0, 4, 1, 3, 2, 2, 8, 7, 7, 7, 9, 7, 7, 9, 1, 5, 2, 8, 6, 6, 8, 7, 9, 8, 2, 8, 9, 8, 1, 5, 0, 2, 8, 6, 8, 1, 5, 4, 0, 8, 2, 7, 8, 8, 7, 3, 1, 8, 4, 0, 2, 2, 1, 3, 6, 7, 4, 2, 4, 6, 8, 6, 9, 2, 3, 9, 3, 0, 7, 2, 2, 9, 4, 3, 6, 8, 2, 5, 3, 3, 3, 2, 0, 3, 4, 6, 2, 3, 2, 6, 0, 0, 8, 6, 4, 0, 2, 3, 1, 1, 6, 7, 6, 0, 1, 3, 5, 1, 8, 8, 6, 6, 3, 3, 0, 1, 3, 1, 2, 7, 9, 3, 0, 2, 6, 0, 9, 2, 3, 2, 6, 7, 3, 5, 3, 9, 9, 8, 0, 1, 2, 3, 8, 6, 7, 8, 3, 3, 9, 1, 0, 9, 0, 0, 6, 3, 1, 5, 2, 3, 2, 8, 1, 7, 8, 0, 1, 8, 8, 6, 3, 5, 5, 8, 9, 5, 2, 6, 8, 6, 3, 0, 7, 9, 4, 5, 0, 0, 9, 9, 9, 0, 0, 6, 8, 5, 6, 3, 6, 0, 4, 6, 6, 1, 6, 4, 8, 9, 3, 4, 6, 0, 1, 5, 7, 6, 6, 5, 0, 9, 8, 0, 8, 9, 9, 7, 8, 1, 8, 0, 9, 8, 9, 2, 4, 2, 6, 8, 5, 0, 6, 1, 9, 8, 6, 2, 1, 0, 1, 0, 0, 1, 5, 8, 8, 2, 9, 6, 3, 2, 0, 0, 1, 8, 8, 8, 3, 1, 3, 5, 3, 6, 3, 3, 8, 9, 2, 8, 1, 8, 5, 7, 9, 0, 2, 8, 9, 2, 6, 7, 3, 5, 6, 2, 0, 0, 1, 6, 0, 7, 3, 2, 6, 0, 8, 7, 2, 0, 3, 4, 0, 0, 5, 8, 3, 9, 6, 3, 8, 1, 0, 9, 0, 2, 0, 8, 5, 9, 5, 2, 6, 0, 1, 3, 0, 8, 7, 2, 6, 1, 8, 1, 2, 1, 8, 8, 2, 2, 3, 8, 1, 7, 6, 2, 0, 8, 4, 0, 1, 9, 2, 8, 4, 8, 8, 6, 1, 8, 8, 1, 3, 2, 6, 3, 7, 3, 8, 4, 8, 9, 7, 6, 5, 3, 7, 8, 0, 8, 9, 3, 5, 8, 5, 2, 3, 8, 6, 6, 6, 7, 2, 8, 4, 4, 8, 0, 3, 0, 6, 0, 0, 6, 3, 7, 8, 3, 9, 0, 6, 2, 2, 2, 5, 1, 8, 2, 8, 6, 1, 3, 8, 9, 8, 6, 7, 8, 3, 2, 8, 1, 4, 3, 3, 3, 3, 2, 2, 0, 1, 9, 9, 6, 0, 4, 2, 0, 0, 5, 8, 3, 1, 8, 3, 6, 3, 8, 5, 0, 3, 0, 3, 3, 8, 8, 6, 2, 0, 2, 8, 8, 3, 8, 9, 8, 0, 6, 7, 5, 4, 8, 7, 7, 8, 6, 0, 2, 2, 6, 0, 5, 0, 7, 4, 8, 1, 1, 3, 6, 0, 5, 3, 5, 3, 3, 3, 1, 0, 6, 7, 3, 2, 6, 8, 5, 3, 5, 8, 3, 3, 9, 2, 3, 0, 5, 8, 1, 5, 8, 6, 7, 2, 4, 8, 9, 1, 3, 2, 5, 7, 8, 2, 6, 2, 3, 7, 9, 8, 0, 3, 6, 2, 3, 1, 0, 6, 1, 1, 0, 6, 6, 3, 3, 3, 0, 9, 8, 0, 1, 8, 3, 8, 3, 3, 8, 4, 8, 3, 8, 2, 3, 3, 5, 8, 8, 1, 5, 3, 6, 1, 8, 3, 7, 4, 6, 7, 5, 9, 0, 2, 2, 7, 6, 8, 6, 0, 1, 6, 0, 8, 7, 2, 1, 0, 7, 7, 2, 6, 5, 6, 3, 0, 3, 2, 3, 1, 6, 6, 8, 1, 6, 6, 3, 5, 3, 8, 0, 8, 8, 8, 2, 3, 9, 0, 8, 6, 8, 2, 0, 2, 0, 9, 1, 7, 4, 0, 0, 9, 6, 3, 0, 8, 9, 5, 6, 8, 1, 2, 9, 9, 2, 2, 4, 4, 1, 6, 9, 8, 7, 8, 0, 8, 8, 6, 9, 8, 8, 2, 8, 5, 1, 0, 2, 3, 3, 8, 2, 3, 8, 0, 9, 3, 9, 1, 9, 0, 4, 8, 4, 2, 9, 0, 2, 6, 9, 2, 8, 6, 2, 0, 8, 2, 8, 6, 3, 2, 0, 8, 9, 5, 9, 2, 9, 0, 6, 0, 0, 0, 2, 4, 2, 2, 3, 8, 6, 2, 1, 2, 6, 8, 1, 7, 6, 0, 4, 4, 3, 2, 3, 2, 9, 5, 3, 3, 9, 7, 9, 0, 6, 3, 8, 8, 3, 2, 9, 8, 9, 2, 5, 2, 8, 3, 0, 8, 1, 2, 4, 3, 4, 6, 6, 8, 8, 6, 3, 4, 0, 8, 4, 3, 1, 6, 0, 5, 8, 9, 8, 5, 9, 6, 8, 5, 4, 5, 2, 1, 1, 5, 6, 9, 0, 8, 9, 7, 0, 7, 3, 2, 2, 6, 7, 3, 5, 3, 1, 3, 3, 4, 6, 6, 0, 2, 2, 3, 2, 9, 8, 8, 0, 3, 8, 0, 7, 2, 7, 4, 0, 3, 2, 6, 1, 4, 9, 3, 3, 6, 7, 0, 3, 4, 8, 1, 8, 8, 0, 8, 2, 3, 3, 2, 8, 8, 8, 8, 7, 5, 0, 8, 0, 6, 6, 2, 0, 6, 0, 8, 9, 8, 3, 0, 8, 0, 8, 3, 1, 1, 8, 5, 1, 0, 2, 0, 0, 0, 0, 4, 3, 2, 6, 1, 2, 0, 1, 3, 8, 8, 0, 8, 9, 4, 1, 6, 3, 9, 2, 2, 9, 8, 9, 1, 5, 3, 1, 0, 8, 3, 3, 8, 2, 3, 0, 8, 0, 3, 6, 8, 7, 8, 0, 9, 8, 2, 4, 2, 8, 1, 8, 6, 6, 0, 3, 6, 3, 8, 2, 3, 8, 8, 2, 2, 9, 6, 8, 6, 8, 5, 9, 0, 1, 0, 3, 9, 8, 8, 0, 7, 7, 8, 3, 0, 3, 6, 8, 9, 6, 2, 8, 2, 1, 5, 1, 6, 2, 3, 6, 2, 0, 9, 8, 1, 0, 3, 9, 8, 3, 6, 6, 4, 8, 0, 1, 1, 6, 0, 4, 7, 5, 1, 2, 2, 1, 6, 3, 9, 7, 5, 8, 3, 8, 2, 0, 8, 4, 8, 9, 8, 3, 0, 8, 0, 1, 3, 3, 9, 8, 9, 6, 9, 8, 0, 5, 0, 8, 6, 2, 6, 7, 6, 1, 8, 2, 9, 6, 2, 2, 2, 0, 6, 2, 0, 4, 3, 7, 3, 7, 0, 2, 3, 2, 6, 9, 4, 7, 3, 3, 8, 6, 6, 7, 7, 6, 5, 3, 0, 6, 0, 3, 8, 0, 1, 0, 4, 1, 5, 3, 0, 8, 9, 2, 7, 8, 7, 3, 3, 2, 7, 2, 8, 3, 6, 0, 7, 1, 2, 3, 0, 1, 8, 0, 3, 0, 2, 0, 2, 8, 2, 6, 6, 6, 3, 3, 4, 1, 2, 2, 5, 2, 4, 4, 2, 8, 1, 3, 0, 2, 3, 9, 8, 5, 0, 6, 0, 9, 1, 0, 8, 0, 3, 2, 7, 2, 1, 3, 1, 0, 6, 9, 1, 0, 2, 0, 2, 6, 0, 3, 0, 0, 2, 4, 5, 3, 7, 7, 8, 3, 3, 3, 2, 8, 1, 1, 4, 0, 8, 5, 4, 9, 8, 4, 9, 8, 8, 5, 6, 2, 6, 7, 2, 9, 8, 8, 0, 5, 0, 3, 5, 3, 1, 3, 8, 0, 8, 3, 9, 2, 0, 6, 5, 7, 3, 7, 6, 8, 8, 4, 2, 3, 6, 2, 9, 1, 0, 6, 3, 1, 8, 2, 4, 2, 3, 1, 5, 7, 9, 9, 3, 6, 7, 2, 4, 1, 9, 4, 3, 2, 1, 8, 3, 6, 0, 6, 5, 0, 5, 7, 3, 7, 9, 5, 0, 9, 2, 4, 2, 6, 8, 8, 7, 0, 9, 7, 1, 7, 6, 5, 9, 6, 3, 3, 5, 0, 2, 7, 9, 2, 5, 1, 2, 0, 1, 9, 7, 3, 6, 3, 1, 6, 8, 5, 2, 4, 6, 7, 5, 2, 3, 6, 3, 3, 0, 4, 8, 8, 0, 8, 4, 4, 2, 2, 8, 3, 6, 1, 8, 9, 3, 5, 4, 2, 9, 9, 2, 3, 0, 2, 1, 5, 6, 2, 2, 5, 6, 9, 3, 0, 8, 8, 3, 1, 1, 9, 8, 8, 8, 7, 0, 4, 3, 6, 2, 4, 5, 1, 1, 5, 3, 5, 2, 9, 8, 1, 5, 8, 3, 6, 6, 5, 0, 8, 0, 8, 0, 1, 9, 4, 8, 0, 8, 2, 8, 2, 2, 1, 4, 2, 8, 0, 8, 7, 5, 1, 4, 9, 8, 1, 9, 2, 1, 1, 2, 1, 8, 3, 3, 2, 6, 1, 8, 0, 1, 9, 3, 8, 1, 8, 6, 1, 0, 0, 8, 9, 3, 8, 8, 8, 0, 9, 4, 9, 3, 8, 5, 8, 4, 0, 5, 3, 4, 9, 8, 3, 4, 0, 9, 0, 0, 3, 6, 7, 5, 6, 9, 8, 2, 1, 3, 2, 2, 8, 0, 8, 7, 8, 5, 2, 2, 5, 1, 2, 0, 0, 8, 2, 2, 8, 2, 6, 5, 3, 5, 8, 2, 2, 5, 2, 0, 1, 8, 9, 8, 0, 6, 7, 1, 1, 9, 8, 2, 3, 1, 2, 6, 9, 8, 0, 8, 7, 4, 8, 3, 5, 3, 8, 3, 0, 3, 0, 2, 2, 4, 0, 6, 2, 6, 1, 8, 3, 8, 9, 0, 1, 2, 9, 2, 0, 2, 0, 5, 5, 3, 1, 3, 4, 2, 0, 8, 5, 8, 5, 3, 6, 6, 1, 8, 2, 8, 6, 0, 5, 2, 0, 2, 7, 7, 2, 9, 0, 7, 8, 2, 7, 6, 0, 2, 2, 0, 5, 8, 0, 6, 0, 2, 4, 8, 4, 6, 2, 1, 1, 8, 6, 3, 1, 0, 1, 3, 3, 2, 8, 6, 7, 3, 4, 8, 8, 8, 8, 9, 2, 3, 2, 8, 0, 3, 0, 9, 8, 8, 8, 1, 8, 8, 9, 9, 8, 7, 6, 9, 1, 2, 2, 1, 1, 0, 8, 9, 5, 1, 8, 9, 9, 1, 7, 0, 6, 3, 0, 9, 8, 0, 0, 3, 9, 7, 5, 8, 3, 2, 2, 0, 3, 7, 9, 6, 3, 6, 7, 3, 3, 6, 5, 8, 0, 7, 1, 8, 8, 9, 6, 9, 3, 1, 2, 0, 9, 6, 5, 5, 0, 7, 6, 9, 0, 2, 2, 3, 2, 0, 0, 0, 7, 5, 5, 9, 6, 1, 0, 7, 6, 8, 7, 0, 9, 5, 0, 6, 4, 3, 2, 1, 2, 4, 5, 3, 8, 3, 0, 0, 2, 1, 9, 8, 9, 3, 8, 7, 8, 3, 7, 3, 1, 2, 2, 7, 0, 0, 3, 2, 9, 3, 3, 8, 6, 6, 9, 1, 5, 5, 2, 1, 0, 9, 6, 5, 5, 5, 6, 8, 8, 8, 6, 9, 6, 9, 8, 7, 4, 6, 3, 8, 1, 3, 7, 0, 8, 2, 0, 2, 5, 8, 9, 1, 6, 5, 2, 0, 8, 8, 5, 2, 2, 0, 8, 7, 0, 1, 3, 1, 0, 3, 8, 7, 3, 8, 1, 2, 8, 1, 5, 3, 0, 8, 6, 3, 9, 0, 6, 6, 1, 1, 5, 9, 8, 7, 9, 3, 1, 3, 1, 6, 1, 6, 3, 5, 2, 5, 1, 3, 2, 8, 6, 8, 4, 3, 3, 1, 5, 6, 3, 2, 6, 9, 0, 4, 0, 0, 6, 2, 4, 8, 3, 0, 6, 9, 6, 1, 0, 2, 4, 1, 7, 2, 0, 2, 1, 2, 3, 7, 5, 8, 3, 9, 0, 3, 1, 0, 8, 4, 2, 6, 5, 7, 3, 7, 9, 6, 8, 8, 9, 2, 0, 8, 3, 2, 6, 8, 3, 5, 8, 4, 0, 3, 5, 8, 3, 1, 1, 3, 8, 3, 9, 3, 5, 9, 2, 8, 3, 1, 7, 6, 6, 0, 8, 6, 6, 3, 2, 2, 1, 0, 4, 8, 6, 5, 1, 9, 0, 3, 9, 8, 1, 2, 2, 2, 3, 0, 8, 8, 8, 0, 9, 2, 2, 2, 3, 7, 5, 8, 4, 6, 3, 8, 8, 7, 5, 8, 1, 8, 2, 6, 7, 3, 6, 7, 7, 6, 6, 8, 8, 2, 0, 6, 0, 0, 0, 8, 3, 2, 1, 6, 9, 4, 5, 8, 0, 1, 2, 0, 0, 8, 1, 6, 6, 3, 5, 4, 9, 5, 8, 3, 0, 1, 2, 3, 8, 2, 5, 5, 2, 6, 2, 3, 7, 1, 7, 8, 6, 6, 6, 1, 3, 8, 8, 8, 3, 7, 7, 6, 7, 0, 5, 4, 4, 6, 2, 5, 3, 6, 1, 6, 8, 2, 9, 2, 0, 1, 3, 8, 1, 2, 6, 0, 2, 5, 0, 1, 3, 0, 3, 5, 2, 8, 9, 9, 3, 0, 8, 0, 9, 3, 3, 4, 3, 6, 9, 7, 2, 0, 1, 8, 9, 1, 9, 1, 7, 3, 0, 0, 8, 9, 6, 9, 3, 5, 7, 3, 8, 1, 5, 1, 6, 2, 3, 5, 6, 3, 9, 5, 0, 8, 6, 2, 2, 3, 1, 8, 0, 2, 5, 8, 9, 2, 8, 9, 9, 7, 5, 1, 3, 0, 0, 8, 2, 5, 8, 9, 6, 1, 8, 4, 0, 8, 5, 6, 3, 6, 2, 4, 3, 5, 2, 4, 2, 3, 8, 5, 2, 3, 7, 1, 6, 2, 3, 9, 3, 8, 1, 3, 9, 8, 4, 0, 0, 2, 9, 7, 8, 2, 1, 3, 4, 9, 6, 1, 2, 1, 9, 9, 9, 3, 0, 2, 1, 0, 6, 4, 4, 8, 1, 8, 8, 0, 2, 6, 1, 0, 1, 0, 1, 2, 7, 6, 9, 7, 2, 2, 4, 2, 0, 2, 5, 4, 0, 5, 4, 3, 2, 5, 8, 5, 1, 4, 3, 3, 5, 8, 9, 0, 9, 8, 3, 1, 0, 9, 3, 4, 5, 7, 1, 8, 8, 2, 2, 8, 9, 3, 0, 8, 6, 0, 5, 0, 6, 6, 0, 8, 5, 0, 7, 9, 1, 5, 9, 7, 1, 5, 3, 9, 8, 3, 2, 0, 3, 8, 0, 2, 9, 2, 5, 3, 8, 1, 1, 8, 8, 0, 7, 6, 2, 0, 9, 2, 0, 5, 2, 8, 2, 8, 5, 1, 6, 3, 2, 2, 5, 8, 3, 2, 3, 5, 3, 3, 0, 5, 9, 6, 4, 1, 2, 9, 8, 8, 2, 0, 1, 2, 0, 3, 9, 8, 1, 2, 2, 7, 2, 2, 2, 9, 8, 7, 4, 2, 9, 0, 3, 2, 9, 9, 8, 3, 0, 1, 9, 0, 2, 3, 1, 5, 8, 6, 2, 0, 6, 8, 8, 9, 2, 4, 2, 0, 8, 3, 8, 7, 1, 3, 8, 1, 2, 3, 7, 0, 3, 0, 8, 3, 5, 1, 4, 5, 9, 0, 6, 5, 0, 0, 6, 0, 7, 3, 8, 9, 6, 6, 6, 1, 7, 3, 9, 2, 6, 7, 7, 1, 6, 6, 2, 4, 0, 2, 0, 1, 7, 3, 1, 8, 0, 7, 8, 0, 3, 3, 8, 9, 8, 2, 4, 9, 7, 6, 8, 1, 5, 3, 9, 9, 9, 7, 6, 0, 0, 3, 8, 2, 0, 7, 8, 4, 6, 3, 2, 5, 0, 0, 8, 8, 8, 4, 0, 3, 2, 7, 2, 4, 5, 2, 6, 3, 4, 6, 8, 1, 2, 8, 9, 1, 3, 5, 0, 0, 7, 4, 6, 9, 8, 2, 1, 3, 5, 6, 2, 2, 5, 3, 3, 8, 8, 9, 3, 1, 0, 7, 8, 8, 7, 2, 2, 8, 4, 5, 3, 4, 0, 3, 8, 4, 7, 2, 2, 8, 0, 7, 0, 6, 4, 5, 2, 1, 3, 8, 4, 0, 6, 9, 2, 3, 0, 4, 7, 0, 8, 2, 1, 2, 1, 1, 3, 6, 4, 8, 2, 0, 2, 0, 6, 8, 5, 8, 8, 1, 8, 8, 7, 2, 3, 9, 6, 6, 1, 8, 7, 3, 8, 2, 4, 4, 2, 6, 0, 3, 7, 8, 7, 6, 8, 9, 3, 0, 5, 2, 2, 9, 3, 1, 7, 3, 0, 2, 3, 7, 4, 2, 7, 0, 6, 8, 9, 1, 0, 8, 0, 0, 8, 1, 0, 8, 2, 1, 0, 6, 2, 7, 9, 1, 2, 7, 3, 4, 1, 4, 7, 8, 2, 1, 9, 0, 0, 3, 8, 8, 2, 6, 8, 5, 0, 8, 3, 0, 5, 9, 4, 1, 1, 1, 1, 2, 0, 5, 0, 6, 2, 8, 3, 6, 3, 2, 4, 2, 1, 1, 8, 9, 8, 6, 0, 3, 8, 8, 3, 6, 7, 9, 3, 9, 7, 0, 0, 0, 2, 0, 1, 5, 8, 3, 1, 3, 8, 2, 4, 6, 1, 6, 0, 3, 1, 9, 2, 3, 1, 1, 2, 0, 1, 9, 3, 0, 8, 6, 3, 6, 8, 8, 3, 2, 0, 2, 7, 7, 2, 3, 8, 2, 8, 8, 1, 6, 8, 8, 2, 5, 8, 2, 7, 1, 0, 6, 8, 6, 0, 7, 7, 9, 9, 1, 1, 7, 8, 1, 8, 5, 6, 3, 3, 8, 8, 8, 7, 8, 6, 2, 9, 3, 0, 2, 5, 0, 6, 8, 6, 8, 9, 9, 3, 0, 2, 7, 8, 1, 1, 0, 0, 0, 4, 2, 8, 9, 9, 2, 7, 7, 3, 8, 6, 0, 2, 8, 5, 8, 2, 5, 5, 2, 8, 8, 4, 4, 6, 1, 4, 3, 2, 6, 9, 5, 2, 8, 7, 6, 7, 6, 3, 0, 4, 9, 1, 0, 3, 6, 3, 6, 8, 1, 0, 4, 0, 4, 8, 8, 4, 8, 0, 3, 6, 1, 2, 1, 6, 8, 7, 4, 8, 0, 1, 1, 6, 1, 8, 2, 2, 0, 6, 8, 7, 3, 3, 8, 8, 0, 5, 7, 3, 6, 1, 3, 8, 3, 8, 3, 6, 3, 9, 0, 6, 2, 3, 6, 9, 1, 6, 8, 6, 7, 1, 3, 2, 4, 3, 2, 8, 2, 8, 5, 0, 8, 8, 9, 6, 4, 7, 3, 0, 4, 8, 6, 0, 7, 0, 6, 0, 3, 9, 0, 9, 8, 8, 9, 6, 0, 2, 7, 2, 0, 5, 5, 6, 4, 8, 1, 1, 8, 2, 6, 8, 3, 3, 9, 9, 6, 3, 6, 2, 6, 0, 5, 0, 1, 6, 5, 3, 9, 2, 7, 2, 1, 0, 2, 1, 2, 2, 7, 6, 7, 0, 2, 9, 8, 3, 4, 7, 4, 3, 6, 4, 1, 3, 5, 2, 3, 1, 4, 0, 2, 0, 7, 9, 3, 2, 0, 7, 3, 8, 8, 6, 9, 1, 9, 4, 1, 1, 6, 6, 2, 3, 4, 7, 9, 6, 1, 7, 8, 5, 2, 4, 3, 6, 8, 3, 8, 2, 5, 3, 2, 3, 6, 6, 3, 3, 6, 2, 1, 5, 7, 8, 6, 5, 6, 6, 2, 2, 2, 5, 6, 3, 0, 6, 0, 6, 8, 8, 2, 4, 3, 9, 9, 1, 7, 2, 3, 3, 1, 8, 3, 0, 0, 6, 2, 8, 3, 2, 0, 3, 2, 9, 4, 8, 2, 1, 1, 3, 2, 9, 4, 8, 0, 0, 1, 2, 6, 8, 5, 0, 8, 2, 7, 6, 2, 3, 0, 6, 6, 9, 2, 2, 9, 6, 9, 9, 9, 9, 8, 6, 9, 9, 0, 3, 9, 8, 8, 5, 9, 0, 9, 9, 9, 9, 2, 2, 2, 0, 6, 4, 8, 1, 1, 8, 6, 6, 1, 8, 4, 8, 8, 6, 5, 1, 5, 8, 2, 2, 0, 8, 9, 6, 2, 3, 0, 2, 9, 9, 0, 3, 5, 1, 0, 3, 8, 8, 8, 6, 1, 6, 3, 3, 2, 6, 1, 0, 9, 5, 0, 8, 3, 2, 8, 6, 1, 1, 9, 8, 3, 6, 8, 1, 2, 8, 8, 9, 4, 0, 6, 5, 3, 3, 8, 2, 0, 3, 0, 8, 8, 5, 9, 2, 6, 0, 3, 3, 5, 1, 8, 0, 3, 4, 8, 6, 3, 3, 1, 6, 6, 0, 1, 9, 7, 1, 4, 0, 1, 0, 3, 5, 8, 8, 5, 0, 9, 1, 8, 2, 7, 0, 1, 0, 6, 2, 4, 3, 8, 0, 8, 0, 9, 1, 8, 0, 8, 0, 1, 1, 3, 0, 1, 0, 6, 6, 6, 2, 8, 2, 6, 3, 2, 5, 3, 3, 7, 1, 6, 7, 9, 6, 1, 2, 8, 6, 6, 3, 0, 4, 1, 9, 7, 3, 3, 3, 0, 9, 1, 1, 9, 3, 5, 6, 6, 7, 8, 0, 3, 0, 7, 6, 9, 3, 1, 8, 9, 1, 8, 3, 5, 2, 2, 0, 8, 9, 0, 4, 3, 6, 3, 8, 1, 2, 3, 1, 1, 2, 2, 9, 0, 8, 8, 3, 4, 2, 9, 6, 8, 3, 3, 2, 6, 9, 6, 0, 1, 3, 9, 7, 9, 3, 2, 9, 9, 0, 6, 9, 0, 9, 7, 9, 2, 9, 2, 3, 6, 5, 0, 1, 0, 7, 3, 2, 9, 3, 1, 7, 6, 8, 7, 2, 5, 0, 5, 4, 0, 8, 6, 3, 2, 7, 2, 7, 0, 0, 1, 8, 0, 2, 2, 8, 8, 2, 0, 2, 3, 0, 0, 0, 3, 0, 3, 8, 8, 5, 6, 3, 9, 2, 8, 6, 9, 8, 3, 9, 4, 3, 9, 4, 3, 9, 0, 1, 4, 8, 2, 4, 9, 2, 8, 5, 0, 2, 1, 2, 8, 3, 1, 2, 0, 1, 3, 2, 0, 8, 8, 7, 3, 5, 9, 5, 3, 4, 8, 5, 6, 1, 0, 9, 8, 0, 8, 2, 2, 8, 2, 3, 3, 2, 9, 8, 0, 7, 8, 1, 0, 8, 6, 6, 6, 7, 5, 6, 5, 2, 0, 8, 3, 6, 4, 0, 3, 0, 8, 6, 9, 0, 6, 0, 4, 4, 1, 1, 9, 8, 6, 8, 5, 8, 9, 9, 6, 4, 3, 2, 2, 2, 8, 9, 2, 2, 2, 8, 6, 4, 6, 8, 3, 0, 3, 0, 8, 9, 2, 7, 0, 1, 7, 3, 2, 3, 6, 8, 6, 3, 5, 8, 1, 9, 6, 8, 9, 8, 5, 8, 0, 0, 3, 8, 4, 9, 6, 0, 9, 0, 3, 3, 8, 9, 3, 1, 8, 0, 3, 4, 7, 3, 1, 3, 6, 8, 9, 3, 1, 7, 2, 0, 7, 0, 8, 8, 0, 3, 4, 5, 3, 0, 2, 5, 1, 2, 6, 8, 2, 0, 0, 8, 6, 0, 8, 2, 1, 4, 0, 9, 8, 5, 5, 4, 0, 9, 1, 0, 0, 5, 1, 0, 9, 7, 8, 6, 2, 4, 4, 3, 5, 3, 5, 3, 3, 2, 0, 9, 0, 8, 8, 8, 6, 2, 2, 6, 9, 3, 7, 4, 2, 6, 1, 6, 7, 8, 0, 6, 3, 3, 2, 1, 2, 0, 3, 1, 2, 5, 1, 9, 8, 0, 1, 5, 1, 2, 1, 7, 2, 0, 7, 0, 3, 2, 1, 9, 0, 7, 2, 8, 8, 6, 2, 9, 7, 6, 1, 3, 2, 8, 0, 0, 6, 2, 5, 3, 4, 0, 0, 3, 3, 3, 3, 3, 9, 8, 8, 7, 8, 0, 2, 9, 9, 1, 7, 0, 8, 3, 3, 7, 2, 1, 1, 8, 1, 8, 1, 8, 3, 3, 3, 9, 3, 0, 8, 6, 1, 1, 2, 2, 6, 1, 9, 0, 0, 8, 8, 1, 8, 3, 9, 8, 8, 2, 2, 2, 0, 5, 5, 9, 1, 6, 2, 3, 3, 6, 2, 1, 9, 8, 6, 3, 0, 8, 2, 3, 7, 3, 3, 7, 6, 7, 1, 9, 5, 3, 0, 3, 2, 6, 1, 1, 5, 2, 2, 1, 4, 3, 5, 9, 1, 1, 6, 0, 8, 0, 1, 1, 8, 5, 6, 5, 6, 6, 3, 9, 7, 8, 0, 9, 6, 3, 6, 9, 5, 1, 0, 6, 8, 4, 2, 1, 2, 3, 9, 0, 8, 7, 3, 9, 1, 6, 0, 0, 6, 8, 7, 6, 2, 1, 6, 9, 6, 6, 8, 2, 6, 4, 7, 7, 1, 6, 6, 9, 3, 0, 0, 2, 1, 8, 6, 6, 1, 3, 3, 8, 0, 8, 7, 5, 8, 3, 8, 3, 0, 6, 0, 3, 3, 7, 7, 4, 0, 8, 0, 2, 3, 7, 8, 0, 2, 4, 1, 3, 5, 8, 2, 1, 5, 5, 6, 3, 6, 2, 9, 3, 5, 9, 5, 7, 1, 5, 7, 1, 1, 7, 3, 5, 2, 3, 9, 3, 3, 2, 8, 0, 1, 0, 8, 3, 2, 2, 3, 5, 9, 9, 2, 9, 8, 1, 2, 9, 0, 6, 6, 1, 3, 9, 1, 1, 0, 7, 0, 8, 6, 8, 0, 6, 5, 9, 8, 2, 1, 6, 8, 1, 3, 2, 1, 1, 3, 8, 9, 1, 7, 2, 7, 8, 2, 4, 8, 2, 6, 2, 7, 3, 3, 8, 5, 0, 0, 5, 4, 0, 3, 2, 3, 2, 1, 2, 8, 9, 4, 2, 7, 6, 0, 6, 1, 7, 1, 6, 6, 0, 5, 8, 4, 6, 4, 3, 0, 1, 2, 5, 3, 2, 1, 2, 2, 8, 3, 3, 3, 3, 4, 5, 7, 5, 1, 1, 6, 3, 8, 0, 3, 2, 6, 4, 8, 5, 2, 3, 6, 2, 5, 2, 6, 0, 2, 1, 6, 9, 0, 0, 1, 7, 5, 1, 6, 7, 8, 0, 3, 1, 5, 2, 0, 3, 8, 2, 3, 6, 8, 2, 6, 7, 2, 7, 0, 8, 3, 6, 2, 7, 2, 5, 2, 0, 2, 1, 7, 2, 2, 8, 9, 7, 9, 8, 9, 7, 1, 8, 7, 8, 8, 3, 7, 6, 8, 5, 3, 0, 9, 7, 8, 6, 2, 2, 6, 8, 2, 9, 8, 2, 8, 8, 4, 8, 8, 0, 0, 4, 1, 6, 1, 8, 1, 8, 3, 3, 0, 3, 5, 5, 4, 8, 5, 6, 6, 7, 0, 4, 0, 2, 3, 9, 3, 2, 0, 5, 2, 3, 1, 1, 2, 5, 2, 3, 6, 7, 2, 5, 6, 5, 6, 0, 5, 5, 6, 0, 5, 2, 1, 3, 2, 2, 2, 5, 0, 7, 1, 8, 6, 3, 0, 1, 6, 4, 3, 9, 6, 7, 2, 3, 2, 3, 1, 3, 1, 5, 1, 0, 5, 0, 6, 9, 2, 3, 1, 3, 4, 6, 0, 0, 9, 5, 6, 1, 4, 8, 7, 3, 6, 9, 2, 7, 1, 2, 3, 3, 1, 0, 6, 9, 7, 1, 3, 9, 2, 9, 0, 3, 4, 5, 8, 7, 5, 0, 6, 2, 7, 2, 6, 2, 0, 9, 6, 5, 1, 9, 8, 4, 9, 4, 7, 3, 7, 0, 5, 0, 6, 8, 0, 1, 1, 1, 0, 7, 0, 8, 8, 5, 2, 7, 1, 1, 7, 9, 9, 0, 2, 1, 1, 0, 4, 9, 8, 3, 6, 1, 3, 9, 7, 9, 4, 0, 7, 1, 3, 9, 8, 0, 5, 2, 8, 3, 0, 2, 7, 2, 2, 8, 9, 2, 0, 9, 2, 3, 6, 2, 2, 6, 2, 5, 3, 0, 9, 6, 9, 3, 3, 7, 3, 0, 3, 8, 4, 5, 5, 8, 0, 8, 5, 4, 2, 8, 5, 0, 2, 6, 0, 2, 7, 0, 3, 3, 8, 2, 0, 1, 8, 3, 2, 8, 2, 2, 8, 5, 8, 7, 9, 3, 8, 2, 2, 2, 2, 3, 8, 7, 8, 9, 0, 5, 2, 9, 0, 7, 5, 2, 3, 1, 2, 0, 0, 1, 6, 1, 6, 6, 4, 1, 8, 3, 5, 6, 9, 3, 3, 6, 0, 1, 7, 3, 3, 1, 0, 2, 8, 2, 4, 9, 8, 8, 9, 9, 8, 7, 1, 0, 1, 8, 8, 6, 2, 0, 1, 3, 6, 0, 9, 1, 8, 9, 0, 2, 8, 7, 2, 0, 9, 9, 8, 9, 1, 3, 3, 0, 9, 2, 3, 8, 5, 6, 2, 0, 8, 1, 9, 0, 1, 2, 4, 8, 8, 0, 6, 1, 0, 8, 9, 6, 2, 9, 1, 0, 3, 9, 5, 6, 8, 8, 8, 1, 5, 4, 5, 9, 9, 1, 0, 6, 8, 6, 9, 0, 9, 0, 6, 7, 5, 0, 3, 6, 6, 2, 8, 3, 9, 8, 7, 3, 0, 9, 4, 5, 0, 5, 8, 3, 0, 6, 0, 0, 0, 5, 0, 3, 5, 2, 2, 4, 1, 6, 7, 6, 3, 1, 2, 0, 6, 6, 0, 0, 4, 8, 5, 2, 2, 0, 2, 6, 9, 2, 6, 2, 4, 9, 2, 0, 2, 8, 0, 0, 7, 6, 6, 7, 3, 3, 0, 3, 2, 3, 3, 6, 9, 4, 8, 3, 1, 5, 3, 3, 3, 7, 8, 8, 5, 4, 9, 1, 9, 6, 3, 0, 8, 8, 5, 0, 1, 3, 9, 8, 8, 0, 4, 8, 0, 2, 2, 5, 8, 2, 9, 6, 6, 0, 9, 9, 9, 0, 8, 2, 3, 7, 7, 3, 6, 0, 3, 3, 0, 7, 3, 3, 6, 0, 9, 2, 3, 3, 3, 8, 8, 3, 2, 8, 0, 8, 8, 0, 0, 2, 8, 7, 0, 7, 2, 5, 5, 5, 0, 4, 0, 0, 7, 8, 2, 7, 6, 5, 9, 1, 6, 9, 2, 8, 7, 9, 8, 6, 1, 3, 6, 4, 2, 5, 5, 7, 3, 7, 3, 6, 2, 8, 8, 6, 3, 6, 9, 3, 2, 8, 2, 9, 1, 1, 2, 8, 8, 1, 8, 8, 7, 0, 0, 7, 1, 0, 8, 0, 6, 3, 4, 0, 0, 1, 2, 2, 6, 0, 8, 0, 3, 8, 9, 8, 0, 9, 3, 0, 5, 3, 2, 0, 1, 3, 9, 0, 8, 0, 2, 4, 4, 7, 6, 6, 2, 6, 6, 6, 6, 0, 0, 1, 0, 8, 6, 8, 8, 1, 3, 9, 9, 9, 3, 8, 2, 4, 4, 3, 1, 0, 6, 8, 1, 6, 6, 9, 8, 8, 8, 1, 1, 2, 4, 7, 6, 3, 3, 0, 7, 6, 4, 2, 4, 3, 1, 0, 1, 6, 3, 6, 5, 3, 3, 2, 7, 3, 6, 2, 4, 9, 6, 8, 3, 8, 5, 9, 2, 3, 4, 2, 1, 7, 1, 4, 8, 9, 7, 9, 1, 7, 5, 0, 0, 2, 6, 8, 8, 1, 4, 9, 2, 5, 1, 8, 9, 3, 4, 4, 1, 9, 1, 3, 9, 6, 4, 2, 8, 8, 6, 4, 4, 9, 5, 6, 1, 6, 9, 8, 1, 2, 8, 3, 1, 6, 3, 8, 2, 3, 5, 5, 0, 8, 0, 6, 1, 9, 6, 7, 0, 9, 6, 8, 2, 3, 7, 3, 5, 1, 8, 3, 0, 4, 9, 0, 6, 0, 9, 5, 8, 4, 8, 4, 6, 6, 3, 4, 8, 4, 2, 7, 3, 0, 0, 4, 8, 1, 1, 1, 8, 3, 1, 0, 3, 8, 3, 0, 9, 0, 6, 2, 2, 2, 1, 6, 7, 3, 1, 8, 3, 2, 0, 4, 0, 4, 7, 4, 4, 6, 6, 9, 2, 2, 3, 1, 0, 7, 2, 2, 8, 4, 3, 8, 1, 1, 3, 0, 1, 8, 8, 6, 9, 7, 4, 0, 3, 6, 4, 6, 1, 3, 6, 9, 2, 3, 2, 2, 5, 1, 5, 0, 2, 8, 2, 8, 9, 8, 6, 2, 5, 1, 4, 9, 8, 4, 3, 1, 3, 8, 6, 9, 5, 8, 1, 6, 8, 0, 0, 6, 8, 1, 8, 3, 2, 3, 8, 2, 1, 3, 8, 9, 6, 3, 7, 3, 4, 8, 9, 3, 7, 3, 3, 8, 8, 8, 8, 2, 5, 1, 3, 8, 2, 0, 0, 8, 2, 6, 3, 5, 6, 0, 0, 1, 3, 5, 5, 1, 8, 8, 7, 8, 5, 9, 8, 3, 0, 3, 0, 6, 6, 4, 6, 9, 2, 1, 7, 0, 3, 8, 8, 8, 3, 8, 0, 8, 1, 7, 0, 1, 3, 2, 2, 0, 3, 6, 2, 6, 8, 1, 9, 8, 3, 1, 2, 7, 3, 3, 2, 1, 1, 8, 8, 0, 0, 1, 8, 8, 2, 6, 0, 8, 5, 2, 6, 6, 3, 3, 6, 0, 3, 2, 1, 2, 3, 6, 6, 8, 1, 3, 4, 3, 5, 4, 5, 0, 8, 5, 8, 6, 4, 1, 4, 8, 1, 6, 3, 2, 8, 3, 9, 5, 9, 6, 5, 3, 9, 3, 2, 2, 9, 4, 9, 1, 4, 8, 5, 6, 2, 7, 3, 7, 3, 2, 1, 3, 4, 0, 6, 4, 3, 6, 0, 2, 3, 4, 0, 2, 0, 0, 5, 1, 0, 6, 7, 3, 8, 6, 2, 1, 6, 3, 4, 3, 5, 0, 8, 2, 0, 0, 7, 8, 8, 9, 9, 6, 6, 8, 2, 8, 3, 0, 6, 5, 3, 8, 0, 8, 0, 0, 9, 1, 2, 0, 1, 3, 2, 3, 2, 9, 2, 9, 1, 1, 9, 5, 0, 7, 7, 3, 1, 6, 5, 3, 8, 8, 0, 8, 0, 8, 1, 5, 7, 0, 9, 6, 9, 6, 2, 0, 7, 0, 1, 8, 1, 3, 8, 0, 4, 1, 1, 2, 0, 1, 6, 9, 7, 1, 0, 3, 9, 6, 8, 1, 1, 3, 3, 8, 1, 8, 0, 8, 6, 8, 3, 9, 8, 1, 2, 9, 2, 8, 8, 8, 0, 2, 2, 8, 6, 8, 5, 2, 6, 8, 2, 5, 7, 2, 0, 4, 1, 1, 7, 8, 9, 6, 8, 7, 7, 2, 1, 8, 6, 5, 2, 7, 3, 8, 7, 2, 3, 2, 4, 4, 0, 0, 3, 1, 6, 8, 3, 0, 8, 2, 3, 8, 2, 7, 1, 0, 3, 0, 0, 8, 0, 0, 6, 5, 8, 3, 1, 1, 3, 2, 3, 8, 3, 3, 3, 6, 6, 4, 0, 6, 4, 3, 3, 0, 0, 1, 5, 8, 6, 8, 3, 9, 2, 8, 6, 0, 9, 5, 0, 0, 0, 1, 8, 3, 6, 7, 4, 2, 3, 0, 0, 1, 7, 3, 1, 1, 2, 6, 3, 5, 4, 8, 2, 8, 9, 6, 7, 0, 6, 2, 8, 3, 9, 2, 8, 4, 9, 0, 8, 8, 3, 0, 5, 8, 1, 5, 8, 3, 5, 5, 3, 2, 3, 3, 0, 3, 3, 8, 2, 4, 1, 2, 0, 0, 0, 8, 3, 0, 2, 3, 8, 7, 7, 1, 4, 2, 8, 8, 3, 3, 3, 3, 7, 2, 2, 8, 3, 6, 0, 5, 4, 0, 9, 5, 9, 8, 9, 8, 2, 2, 6, 4, 8, 6, 2, 9, 8, 2, 2, 2, 1, 2, 6, 9, 5, 1, 2, 9, 2, 8, 7, 1, 6, 5, 5, 1, 2, 1, 5, 0, 1, 2, 3, 7, 2, 3, 5, 3, 7, 8, 3, 8, 1, 2, 6, 2, 2, 3, 0, 6, 6, 0, 8, 2, 1, 3, 8, 0, 3, 6, 8, 1, 6, 6, 2, 0, 2, 5, 3, 8, 4, 6, 6, 0, 0, 3, 3, 7, 3, 5, 0, 6, 2, 6, 6, 0, 6, 5, 5, 3, 3, 3, 0, 3, 3, 9, 6, 3, 8, 8, 7, 0, 3, 8, 1, 2, 8, 1, 1, 2, 6, 2, 3, 3, 8, 1, 3, 8, 0, 5, 9, 1, 2, 5, 7, 7, 4, 8, 2, 3, 9, 0, 3, 5, 7, 8, 2, 8, 3, 1, 2, 8, 6, 2, 1, 5, 6, 8, 2, 8, 7, 3, 9, 3, 8, 6, 6, 0, 3, 0, 6, 8, 6, 8, 3, 2, 8, 3, 6, 1, 6, 7, 4, 0, 3, 2, 1, 7, 3, 0, 1, 8, 4, 5, 0, 3, 9, 7, 2, 1, 3, 2, 8, 1, 2, 1, 1, 4, 2, 0, 9, 8, 2, 5, 8, 5, 9, 3, 0, 8, 8, 6, 6, 8, 6, 3, 3, 2, 3, 5, 3, 5, 7, 5, 6, 3, 2, 4, 1, 1, 8, 8, 1, 0, 6, 2, 7, 8, 3, 6, 7, 0, 3, 2, 1, 3, 9, 3, 8, 3, 7, 7, 3, 2, 5, 3, 0, 1, 0, 7, 8, 1, 5, 6, 3, 2, 2, 3, 0, 8, 8, 8, 9, 5, 3, 8, 3, 1, 8, 6, 1, 7, 2, 5, 6, 5, 0, 7, 9, 0, 6, 9, 9, 6, 5, 4, 3, 9, 3, 3, 1, 5, 3, 0, 1, 7, 1, 8, 9, 8, 1, 9, 7, 5, 5, 1, 2, 1, 8, 0, 8, 8, 9, 1, 3, 8, 9, 2, 9, 1, 6, 0, 3, 2, 2, 2, 6, 9, 6, 7, 1, 3, 9, 3, 8, 8, 8, 6, 9, 1, 2, 2, 0, 3, 0, 4, 2, 5, 1, 6, 3, 0, 0, 3, 2, 3, 8, 9, 8, 2, 7, 1, 0, 8, 3, 9, 8, 9, 9, 8, 9, 0, 1, 0, 1, 9, 6, 9, 9, 6, 0, 5, 6, 8, 3, 6, 4, 0, 8, 3, 0, 1, 8, 7, 2, 6, 1, 9, 9, 2, 9, 2, 8, 3, 2, 2, 8, 6, 6, 9, 3, 7, 6, 8, 6, 9, 0, 8, 0, 0, 1, 9, 3, 2, 8, 6, 6, 8, 2, 9, 8, 0, 0, 0, 9, 6, 9, 4, 0, 1, 4, 8, 8, 2, 2, 1, 5, 3, 0, 3, 1, 8, 3, 0, 0, 3, 4, 6, 6, 8, 4, 6, 6, 9, 1, 3, 8, 7, 0, 8, 0, 6, 0, 7, 9, 2, 8, 8, 1, 3, 2, 0, 3, 0, 8, 4, 9, 9, 9, 8, 7, 5, 6, 7, 1, 2, 3, 7, 3, 6, 8, 6, 7, 8, 2, 9, 0, 3, 8, 0, 6, 5, 3, 6, 7, 8, 6, 8, 5, 7, 2, 9, 3, 1, 3, 8, 3, 4, 0, 6, 3, 8, 3, 3, 3, 0, 5, 0, 8, 3, 1, 9, 1, 8, 0, 6, 8, 2, 8, 7, 1, 3, 3, 1, 3, 8, 8, 2, 9, 5, 9, 9, 7, 3, 0, 7, 2, 0, 0, 4, 0, 0, 7, 8, 1, 1, 3, 0, 0, 7, 2, 3, 7, 2, 0, 8, 8, 7, 6, 8, 2, 6, 3, 2, 6, 3, 3, 1, 0, 1, 3, 3, 9, 8, 8, 6, 4, 9, 8, 6, 2, 1, 2, 8, 3, 0, 3, 5, 9, 8, 0, 7, 5, 7, 8, 6, 6, 9, 9, 1, 6, 0, 0, 1, 7, 3, 7, 3, 3, 1, 2, 7, 3, 9, 9, 5, 6, 4, 0, 3, 5, 6, 6, 5, 7, 8, 6, 8, 7, 3, 2, 3, 4, 0, 0, 0, 4, 0, 3, 8, 4, 1, 1, 2, 2, 6, 6, 1, 1, 0, 2, 1, 3, 1, 3, 1, 2, 0, 8, 8, 9, 3, 7, 6, 0, 0, 6, 6, 6, 8, 9, 7, 4, 8, 6, 2, 5, 8, 1, 3, 7, 4, 8, 3, 3, 3, 2, 8, 8, 1, 3, 8, 2, 6, 3, 0, 8, 6, 2, 0, 8, 2, 8, 3, 6, 9, 1, 4, 3, 3, 1, 3, 6, 0, 6, 5, 8, 3, 0, 6, 8, 4, 0, 8, 9, 6, 9, 9, 3, 0, 5, 8, 5, 1, 5, 0, 0, 1, 3, 3, 1, 6, 8, 2, 1, 6, 6, 7, 6, 1, 3, 0, 8, 0, 1, 7, 7, 7, 1, 9, 6, 1, 1, 9, 3, 6, 0, 4, 8, 0, 9, 0, 8, 1, 6, 5, 1, 2, 8, 7, 8, 7, 1, 3, 0, 3, 6, 3, 9, 5, 2, 8, 5, 7, 9, 1, 7, 8, 2, 1, 2, 5, 1, 1, 3, 2, 7, 3, 9, 2, 0, 8, 1, 3, 2, 6, 6, 5, 6, 3, 3, 9, 0, 0, 2, 8, 1, 3, 1, 7, 9, 3, 9, 6, 6, 3, 5, 8, 9, 3, 2, 8, 8, 1, 3, 3, 5, 8, 9, 1, 8, 8, 3, 8, 9, 6, 8, 0, 0, 5, 9, 8, 1, 8, 3, 1, 0, 8, 0, 4, 1, 7, 9, 3, 3, 3, 8, 6, 3, 6, 3, 5, 9, 1, 4, 4, 6, 3, 3, 4, 8, 8, 5, 7, 0, 2, 2, 3, 3, 1, 8, 9, 8, 6, 3, 6, 0, 2, 5, 6, 7, 9, 7, 0, 2, 0, 5, 3, 6, 9, 8, 3, 9, 6, 6, 6, 4, 8, 8, 1, 8, 8, 1, 8, 1, 0, 9, 5, 4, 1, 7, 8, 4, 1, 9, 7, 0, 0, 2, 4, 5, 8, 6, 8, 8, 2, 3, 0, 0, 8, 1, 8, 3, 0, 9, 3, 9, 0, 5, 8, 0, 0, 9, 2, 0, 3, 3, 3, 4, 0, 7, 9, 9, 0, 3, 2, 3, 8, 1, 6, 9, 6, 8, 5, 6, 2, 2, 6, 0, 8, 2, 3, 1, 1, 3, 2, 4, 3, 8, 9, 6, 6, 3, 5, 2, 3, 8, 1, 7, 3, 6, 5, 2, 6, 3, 6, 2, 2, 9, 3, 8, 2, 3, 0, 8, 5, 2, 9, 4, 3, 6, 3, 3, 2, 8, 3, 1, 9, 3, 4, 1, 6, 1, 6, 8, 9, 5, 2, 7, 2, 8, 1, 8, 0, 2, 6, 1, 9, 5, 8, 6, 1, 2, 6, 4, 4, 2, 1, 8, 4, 6, 0, 8, 2, 8, 8, 6, 3, 4, 6, 1, 3, 8, 2, 5, 1, 9, 6, 8, 9, 1, 0, 2, 2, 7, 8, 3, 0, 2, 4, 2, 8, 8, 0, 8, 3, 8, 0, 0, 5, 0, 4, 1, 8, 0, 4, 6, 1, 3, 3, 2, 9, 0, 5, 4, 1, 8, 6, 5, 9, 9, 2, 4, 6, 8, 5, 8, 3, 3, 3, 8, 2, 0, 6, 4, 1, 3, 2, 8, 2, 1, 6, 3, 5, 8, 8, 5, 6, 6, 3, 1, 2, 1, 6, 1, 1, 9, 2, 0, 4, 6, 6, 5, 3, 7, 8, 3, 1, 0, 1, 0, 2, 2, 7, 8, 3, 9, 9, 5, 2, 1, 9, 7, 7, 9, 4, 8, 1, 1, 1, 6, 1, 0, 1, 9, 7, 6, 1, 9, 2, 8, 6, 1, 8, 5, 2, 8, 1, 2, 3, 6, 5, 0, 3, 8, 0, 8, 3, 6, 6, 3, 0, 0, 2, 3, 2, 8, 6, 0, 6, 3, 0, 6, 3, 1, 1, 8, 3, 6, 8, 3, 8, 5, 6, 1, 7, 8, 2, 3, 8, 5, 0, 8, 7, 4, 3, 7, 0, 0, 2, 9, 8, 2, 5, 1, 0, 8, 6, 8, 1, 9, 6, 7, 6, 4, 0, 6, 0, 8, 6, 1, 1, 6, 3, 5, 5, 3, 0, 1, 1, 3, 1, 8, 1, 6, 2, 7, 4, 5, 8, 1, 6, 2, 5, 5, 3, 1, 2, 9, 9, 5, 3, 7, 3, 9, 5, 6, 1, 3, 3, 6, 6, 0, 0, 0, 1, 2, 6, 8, 7, 3, 5, 4, 8, 2, 5, 2, 8, 1, 3, 8, 9, 3, 3, 1, 5, 0, 3, 1, 2, 6, 0, 2, 2, 2, 9, 3, 5, 9, 8, 3, 0, 5, 9, 1, 1, 5, 0, 7, 3, 7, 9, 2, 0, 2, 8, 8, 4, 1, 0, 4, 8, 3, 4, 6, 2, 1, 8, 4, 8, 3, 7, 0, 2, 3, 5, 2, 9, 0, 6, 0, 2, 0, 7, 3, 0, 6, 6, 2, 3, 8, 9, 9, 3, 5, 7, 9, 1, 2, 4, 6, 3, 5, 7, 3, 5, 0, 3, 0, 1, 8, 2, 2, 3, 0, 8, 8, 3, 2, 3, 3, 7, 2, 9, 7, 3, 0, 8, 1, 9, 2, 2, 2, 6, 0, 6, 6, 1, 2, 6, 3, 5, 0, 0, 5, 7, 1, 2, 6, 2, 8, 7, 7, 6, 3, 8, 3, 6, 7, 5, 0, 0, 1, 6, 1, 0, 5, 5, 3, 0, 9, 5, 6, 3, 5, 6, 9, 0, 8, 9, 3, 4, 7, 9, 0, 0, 2, 6, 7, 3, 3, 8, 2, 2, 8, 9, 6, 6, 3, 8, 6, 4, 1, 8, 6, 6, 0, 6, 3, 3, 2, 6, 2, 7, 9, 1, 0, 0, 2, 0, 5, 0, 8, 6, 2, 0, 4, 0, 5, 9, 4, 1, 8, 3, 5, 3, 8, 9, 5, 4, 1, 9, 1, 8, 9, 1, 3, 4, 1, 0, 3, 2, 4, 8, 6, 8, 1, 1, 3, 0, 0, 8, 2, 7, 2, 6, 7, 6, 0, 9, 8, 8, 1, 9, 8, 1, 8, 3, 8, 2, 8, 6, 0, 0, 7, 6, 0, 9, 6, 2, 0, 4, 9, 0, 9, 5, 9, 2, 7, 5, 8, 8, 2, 1, 3, 3, 0, 3, 5, 0, 1, 9, 4, 3, 7, 9, 8, 6, 9, 4, 1, 8, 6, 4, 6, 0, 7, 9, 6, 8, 7, 8, 5, 1, 8, 8, 2, 3, 3, 2, 8, 7, 3, 2, 3, 8, 4, 3, 6, 6, 0, 2, 3, 2, 2, 1, 0, 3, 9, 8, 0, 0, 3, 9, 8, 0, 8, 3, 3, 9, 5, 6, 1, 0, 1, 3, 6, 1, 2, 2, 3, 0, 0, 8, 8, 9, 0, 3, 2, 0, 5, 8, 2, 8, 2, 2, 8, 9, 1, 4, 6, 3, 9, 2, 2, 3, 2, 7, 0, 2, 0, 8, 0, 9, 3, 7, 8, 0, 3, 0, 6, 6, 1, 5, 6, 8, 3, 8, 7, 8, 0, 6, 8, 8, 1, 2, 3, 1, 6, 2, 0, 5, 2, 4, 2, 0, 7, 3, 8, 3, 8, 0, 3, 6, 5, 2, 7, 6, 3, 3, 5, 9, 0, 5, 9, 3, 8, 2, 3, 2, 8, 6, 9, 2, 2, 1, 0, 6, 6, 0, 0, 2, 8, 2, 2, 7, 3, 3, 2, 0, 1, 9, 9, 6, 2, 2, 8, 3, 1, 0, 3, 6, 2, 5, 6, 7, 3, 0, 8, 8, 1, 5, 3, 3, 8, 6, 0, 3, 2, 0, 5, 6, 6, 1, 0, 3, 6, 8, 4, 5, 0, 6, 7, 0, 8, 9, 4, 2, 9, 7, 8, 0, 9, 1, 1, 5, 0, 0, 1, 2, 9, 7, 4, 6, 2, 0, 3, 2, 2, 6, 3, 0, 9, 3, 9, 8, 3, 7, 8, 8, 6, 8, 1, 0, 1, 9, 1, 6, 7, 9, 5, 2, 0, 2, 9, 8, 0, 7, 9, 6, 5, 3, 8, 2, 3, 0, 9, 1, 9, 2, 0, 9, 3, 8, 8, 9, 6, 2, 5, 7, 1, 3, 1, 8, 9, 3, 3, 2, 8, 5, 5, 0, 3, 8, 7, 3, 5, 9, 3, 6, 1, 8, 6, 3, 1, 9, 0, 0, 2, 0, 8, 2, 1, 7, 8, 8, 2, 3, 9, 7, 1, 2, 8, 3, 8, 2, 8, 1, 7, 3, 5, 5, 2, 8, 2, 2, 6, 4, 9, 3, 4, 2, 3, 5, 3, 3, 5, 8, 9, 4, 7, 2, 1, 4, 3, 8, 2, 2, 8, 3, 6, 0, 3, 3, 4, 1, 0, 1, 0, 7, 0, 5, 3, 0, 1, 1, 3, 6, 8, 6, 8, 2, 8, 3, 0, 7, 1, 8, 0, 0, 8, 0, 8, 8, 0, 3, 1, 1, 5, 3, 6, 4, 9, 1, 2, 8, 0, 7, 1, 6, 2, 0, 3, 9, 7, 8, 3, 7, 7, 0, 5, 2, 9, 3, 8, 2, 9, 0, 6, 0, 7, 0, 2, 3, 7, 4, 0, 1, 1, 9, 8, 6, 3, 3, 9, 5, 7, 8, 8, 3, 3, 4, 8, 1, 2, 6, 9, 3, 0, 2, 6, 1, 6, 6, 3, 6, 3, 1, 1, 5, 3, 5, 3, 9, 8, 8, 9, 6, 2, 0, 7, 3, 1, 0, 8, 3, 8, 4, 6, 2, 1, 6, 1, 7, 0, 7, 4, 8, 8, 4, 2, 3, 9, 9, 0, 9, 4, 8, 0, 8, 2, 8, 5, 7, 9, 4, 3, 2, 1, 7, 2, 0, 1, 3, 6, 8, 8, 9, 8, 9, 0, 1, 2, 6, 0, 9, 0, 6, 4, 6, 5, 2, 0, 8, 2, 1, 1, 0, 3, 3, 7, 9, 6, 1, 9, 9, 2, 3, 8, 4, 2, 8, 3, 2, 3, 6, 9, 8, 0, 6, 6, 2, 3, 9, 9, 3, 2, 9, 2, 0, 9, 6, 2, 0, 5, 3, 2, 9, 7, 7, 5, 6, 2, 8, 9, 0, 8, 2, 0, 8, 0, 6, 0, 8, 6, 3, 2, 8, 7, 5, 5, 3, 0, 5, 3, 2, 7, 8, 8, 6, 6, 3, 9, 0, 5, 0, 9, 1, 8, 0, 9, 3, 7, 1, 7, 8, 5, 8, 2, 8, 7, 9, 7, 0, 2, 8, 8, 0, 2, 6, 3, 2, 0, 1, 8, 2, 6, 2, 8, 2, 0, 1, 2, 9, 9, 3, 0, 4, 8, 1, 7, 6, 2, 2, 2, 6, 2, 0, 8, 8, 1, 1, 3, 2, 5, 8, 0, 8, 2, 7, 8, 9, 3, 1, 6, 5, 5, 9, 8, 8, 5, 6, 9, 7, 8, 9, 7, 7, 1, 9, 7, 8, 6, 2, 5, 8, 6, 2, 6, 5, 0, 1, 0, 1, 8, 6, 1, 9, 6, 6, 0, 9, 8, 7, 7, 0, 2, 7, 0, 5, 6, 9, 7, 3, 8, 0, 6, 5, 8, 1, 3, 6, 9, 9, 8, 3, 6, 6, 7, 0, 8, 8, 6, 6, 3, 3, 3, 6, 7, 3, 8, 8, 0, 6, 1, 2, 2, 8, 1, 8, 3, 0, 0, 9, 0, 6, 6, 9, 6, 9, 2, 7, 0, 3, 1, 9, 3, 6, 1, 3, 7, 0, 4, 7, 8, 5, 6, 2, 9, 4, 9, 4, 3, 3, 6, 6, 3, 6, 6, 0, 2, 3, 0, 1, 6, 0, 3, 8, 8, 1, 2, 8, 9, 8, 5, 1, 3, 0, 8, 6, 0, 8, 8, 8, 3, 3, 0, 3, 1, 8, 2, 8, 9, 8, 3, 8, 4, 0, 9, 8, 2, 0, 2, 9, 5, 1, 3, 4, 5, 0, 7, 0, 3, 9, 3, 3, 0, 6, 1, 2, 9, 8, 8, 0, 2, 2, 6, 8, 6, 9, 4, 1, 8, 6, 5, 0, 6, 6, 6, 0, 1, 8, 8, 8, 7, 5, 1, 9, 0, 5, 8, 2, 2, 2, 8, 2, 1, 8, 8, 0, 8, 2, 3, 8, 8, 0, 0, 2, 6, 5, 2, 6, 8, 8, 0, 0, 6, 1, 7, 8, 1, 9, 1, 8, 1, 5, 9, 1, 7, 8, 2, 0, 0, 3, 2, 6, 2, 7, 7, 0, 3, 6, 8, 2, 8, 3, 8, 8, 3, 6, 1, 1, 0, 9, 5, 5, 1, 0, 8, 6, 2, 0, 3, 9, 6, 6, 0, 5, 0, 0, 8, 0, 8, 1, 2, 0, 5, 4, 8, 0, 2, 6, 3, 3, 1, 4, 9, 3, 8, 1, 0, 2, 3, 4, 8, 0, 4, 6, 2, 4, 3, 0, 8, 1, 4, 2, 8, 3, 3, 5, 8, 3, 5, 6, 2]\n"
          ]
        }
      ]
    },
    {
      "cell_type": "code",
      "source": [
        "print(y_pred)"
      ],
      "metadata": {
        "colab": {
          "base_uri": "https://localhost:8080/"
        },
        "id": "fcnMvZrmpBzn",
        "outputId": "4cea7d5b-4869-4de9-8661-8b8e56d09f16"
      },
      "execution_count": 22,
      "outputs": [
        {
          "output_type": "stream",
          "name": "stdout",
          "text": [
            "[[0.05837957 0.05569479 0.06988634 ... 0.05362349 0.03863745 0.04622556]\n",
            " [0.08361205 0.10103206 0.00360765 ... 0.00182044 0.6284742  0.17737497]\n",
            " [0.10190178 0.02217165 0.00442144 ... 0.00128981 0.83850586 0.02794374]\n",
            " ...\n",
            " [0.01845082 0.00970216 0.07511228 ... 0.0741753  0.01166503 0.0217627 ]\n",
            " [0.02138715 0.00785122 0.10327742 ... 0.06134199 0.00360973 0.01472111]\n",
            " [0.05639346 0.006139   0.26069048 ... 0.20233755 0.00589711 0.0103383 ]]\n"
          ]
        }
      ]
    },
    {
      "cell_type": "code",
      "source": [
        "print(Y_test[:20])\n"
      ],
      "metadata": {
        "colab": {
          "base_uri": "https://localhost:8080/"
        },
        "id": "oU-olr1spN3P",
        "outputId": "a5955d58-95a2-4740-c8e7-0ea066005b3e"
      },
      "execution_count": 24,
      "outputs": [
        {
          "output_type": "stream",
          "name": "stdout",
          "text": [
            "[[0. 0. 0. 1. 0. 0. 0. 0. 0. 0.]\n",
            " [0. 0. 0. 0. 0. 0. 0. 0. 1. 0.]\n",
            " [0. 0. 0. 0. 0. 0. 0. 0. 1. 0.]\n",
            " [1. 0. 0. 0. 0. 0. 0. 0. 0. 0.]\n",
            " [0. 0. 0. 0. 0. 0. 1. 0. 0. 0.]\n",
            " [0. 0. 0. 0. 0. 0. 1. 0. 0. 0.]\n",
            " [0. 1. 0. 0. 0. 0. 0. 0. 0. 0.]\n",
            " [0. 0. 0. 0. 0. 0. 1. 0. 0. 0.]\n",
            " [0. 0. 0. 1. 0. 0. 0. 0. 0. 0.]\n",
            " [0. 1. 0. 0. 0. 0. 0. 0. 0. 0.]\n",
            " [1. 0. 0. 0. 0. 0. 0. 0. 0. 0.]\n",
            " [0. 0. 0. 0. 0. 0. 0. 0. 0. 1.]\n",
            " [0. 0. 0. 0. 0. 1. 0. 0. 0. 0.]\n",
            " [0. 0. 0. 0. 0. 0. 0. 1. 0. 0.]\n",
            " [0. 0. 0. 0. 0. 0. 0. 0. 0. 1.]\n",
            " [0. 0. 0. 0. 0. 0. 0. 0. 1. 0.]\n",
            " [0. 0. 0. 0. 0. 1. 0. 0. 0. 0.]\n",
            " [0. 0. 0. 0. 0. 0. 0. 1. 0. 0.]\n",
            " [0. 0. 0. 0. 0. 0. 0. 0. 1. 0.]\n",
            " [0. 0. 0. 0. 0. 0. 1. 0. 0. 0.]]\n"
          ]
        }
      ]
    },
    {
      "cell_type": "code",
      "source": [
        "rounded_labels=np.argmax(Y_test, axis=1)\n",
        "print(rounded_labels[:20])"
      ],
      "metadata": {
        "colab": {
          "base_uri": "https://localhost:8080/"
        },
        "id": "-08Lc_MupSnH",
        "outputId": "82526479-a39d-48a6-cee2-b70d1184a735"
      },
      "execution_count": 25,
      "outputs": [
        {
          "output_type": "stream",
          "name": "stdout",
          "text": [
            "[3 8 8 0 6 6 1 6 3 1 0 9 5 7 9 8 5 7 8 6]\n"
          ]
        }
      ]
    },
    {
      "cell_type": "code",
      "source": [
        " print('classification Report: \\n', classification_report(rounded_labels,y_pred_classes))"
      ],
      "metadata": {
        "colab": {
          "base_uri": "https://localhost:8080/"
        },
        "id": "nC7TqSMvpj8Q",
        "outputId": "68fee14f-149a-46a7-9e04-3c6932f10835"
      },
      "execution_count": 26,
      "outputs": [
        {
          "output_type": "stream",
          "name": "stdout",
          "text": [
            "classification Report: \n",
            "               precision    recall  f1-score   support\n",
            "\n",
            "           0       0.41      0.52      0.46      1000\n",
            "           1       0.53      0.52      0.53      1000\n",
            "           2       0.27      0.33      0.30      1000\n",
            "           3       0.27      0.36      0.31      1000\n",
            "           4       0.39      0.18      0.25      1000\n",
            "           5       0.39      0.24      0.29      1000\n",
            "           6       0.41      0.45      0.43      1000\n",
            "           7       0.54      0.33      0.41      1000\n",
            "           8       0.42      0.66      0.51      1000\n",
            "           9       0.48      0.41      0.44      1000\n",
            "\n",
            "    accuracy                           0.40     10000\n",
            "   macro avg       0.41      0.40      0.39     10000\n",
            "weighted avg       0.41      0.40      0.39     10000\n",
            "\n"
          ]
        }
      ]
    },
    {
      "cell_type": "markdown",
      "source": [
        "Class wise Precision, Recall and F1 Score."
      ],
      "metadata": {
        "id": "aGkQPr6hp7bh"
      }
    },
    {
      "cell_type": "markdown",
      "source": [
        "So We will use CNN to improve performance of thise model."
      ],
      "metadata": {
        "id": "wE8nEslvqQt0"
      }
    }
  ]
}