{
  "nbformat": 4,
  "nbformat_minor": 0,
  "metadata": {
    "colab": {
      "provenance": [],
      "authorship_tag": "ABX9TyPTkM/sL8i7j3P/sp767OHa",
      "include_colab_link": true
    },
    "kernelspec": {
      "name": "python3",
      "display_name": "Python 3"
    },
    "language_info": {
      "name": "python"
    }
  },
  "cells": [
    {
      "cell_type": "markdown",
      "metadata": {
        "id": "view-in-github",
        "colab_type": "text"
      },
      "source": [
        "<a href=\"https://colab.research.google.com/github/maffant20/Assignment-5/blob/main/CNN_with_2conv_layers.ipynb\" target=\"_parent\"><img src=\"https://colab.research.google.com/assets/colab-badge.svg\" alt=\"Open In Colab\"/></a>"
      ]
    },
    {
      "cell_type": "code",
      "execution_count": 14,
      "metadata": {
        "colab": {
          "base_uri": "https://localhost:8080/"
        },
        "id": "1t7EOJzrrJh1",
        "outputId": "ca5c42d5-af70-4800-ff33-639c1a0d4563"
      },
      "outputs": [
        {
          "output_type": "stream",
          "name": "stdout",
          "text": [
            "Training Images Size: (50000, 32, 32, 3)\n",
            "(32, 32, 3)\n"
          ]
        }
      ],
      "source": [
        "import tensorflow as tf\n",
        "from tensorflow.keras import datasets,layers,models\n",
        "import keras\n",
        "from keras.models import Sequential\n",
        "from keras.layers import Dense, Dropout, Flatten\n",
        "from keras.optimizers import SGD\n",
        "from keras.constraints import maxnorm\n",
        "from keras.layers import Conv2D, MaxPooling2D\n",
        "from keras.datasets import cifar10\n",
        "from keras.utils import np_utils\n",
        "from matplotlib import pyplot as plt\n",
        "import numpy as np\n",
        "from PIL import Image\n",
        "from sklearn.model_selection import train_test_split\n",
        "\n",
        "#Load Data\n",
        "np.random.seed(6) #For reproducibility\n",
        "(X_train, Y_train),(X_test, Y_test) = cifar10.load_data()\n",
        "\n",
        "#Dataset characteristics\n",
        "print('Training Images Size: {}'.format(X_train.shape))\n",
        "print(X_train[0].shape)"
      ]
    },
    {
      "cell_type": "code",
      "source": [
        "print(X_train.shape)\n",
        "print(Y_train.shape)\n"
      ],
      "metadata": {
        "colab": {
          "base_uri": "https://localhost:8080/"
        },
        "id": "-8XAagc0rdyr",
        "outputId": "5f45ebc7-e8d4-4d9b-fe7d-702cb6e6e7e4"
      },
      "execution_count": 15,
      "outputs": [
        {
          "output_type": "stream",
          "name": "stdout",
          "text": [
            "(50000, 32, 32, 3)\n",
            "(50000, 1)\n"
          ]
        }
      ]
    },
    {
      "cell_type": "code",
      "source": [
        "classes = ['airplane','automobile','bird','cat','deer','dog','frog','horse','ship','truck']\n",
        "X_train = X_train.astype('float32')\n",
        "X_test = X_test.astype('float32')\n",
        "X_train /= 255\n",
        "X_test /= 255\n",
        "Y_train = np_utils.to_categorical(Y_train)\n",
        "Y_test = np_utils.to_categorical(Y_test)\n",
        "num_classes = Y_test.shape[1]\n",
        "print(Y_train.shape)\n",
        "print(Y_train[0])\n"
      ],
      "metadata": {
        "colab": {
          "base_uri": "https://localhost:8080/"
        },
        "id": "SuTytoo9rehH",
        "outputId": "508359ea-0a7b-402d-9e05-4dae6962be7a"
      },
      "execution_count": 16,
      "outputs": [
        {
          "output_type": "stream",
          "name": "stdout",
          "text": [
            "(50000, 10)\n",
            "[0. 0. 0. 0. 0. 0. 1. 0. 0. 0.]\n"
          ]
        }
      ]
    },
    {
      "cell_type": "code",
      "source": [
        "def plot_sam(X,Y,ide):\n",
        "\n",
        "  plt.figure(figsize = (15,2))\n",
        "  plt.imshow(X[ide])\n",
        "  for i in range(10):\n",
        "    if Y[ide][i]==1:\n",
        "      cl = classes[i]\n",
        "  plt.xlabel(cl)\n",
        "  plt.show()"
      ],
      "metadata": {
        "id": "bIOhhftmrh4u"
      },
      "execution_count": 17,
      "outputs": []
    },
    {
      "cell_type": "code",
      "source": [
        "\n",
        "cnn = models.Sequential([layers.Conv2D(filters = 32, kernel_size= (3,3), activation = 'relu', input_shape=(32,32,3)),\n",
        "                         layers.MaxPooling2D((2,2)),\n",
        "                         layers.Conv2D(filters = 64, kernel_size= (3,3), activation = 'relu'),\n",
        "                         layers.MaxPooling2D((2,2)),                         \n",
        "                         layers.Flatten(),\n",
        "                         layers.Dense(1000, activation = 'relu'),\n",
        "                         layers.Dense(400, activation = 'relu'),\n",
        "                         layers.Dense(300, activation = 'relu'),\n",
        "                         layers.Dense(200, activation = 'relu'),\n",
        "                         layers.Dense(10, activation = 'softmax')\n",
        "])\n",
        "cnn.compile(tf.keras.optimizers.Adam(learning_rate = 0.003),\n",
        "            loss = 'categorical_crossentropy',\n",
        "            metrics = ['accuracy'])\n",
        "print('Training Loss and Accuracy')\n",
        "history =cnn.fit(X_train, Y_train, epochs = 10)\n",
        "import pandas as pd\n",
        "pd.DataFrame(history.history).plot(figsize=(8,5))\n",
        "plt.show()"
      ],
      "metadata": {
        "colab": {
          "base_uri": "https://localhost:8080/",
          "height": 684
        },
        "id": "Y5dOmvzcrwie",
        "outputId": "d18ca251-8693-4621-9e4f-4ae8b91c9b12"
      },
      "execution_count": 18,
      "outputs": [
        {
          "output_type": "stream",
          "name": "stdout",
          "text": [
            "Training Loss and Accuracy\n",
            "Epoch 1/10\n",
            "1563/1563 [==============================] - 121s 77ms/step - loss: 1.6326 - accuracy: 0.3964\n",
            "Epoch 2/10\n",
            "1563/1563 [==============================] - 117s 75ms/step - loss: 1.2933 - accuracy: 0.5410\n",
            "Epoch 3/10\n",
            "1563/1563 [==============================] - 116s 74ms/step - loss: 1.1240 - accuracy: 0.6070\n",
            "Epoch 4/10\n",
            "1563/1563 [==============================] - 118s 76ms/step - loss: 1.0092 - accuracy: 0.6507\n",
            "Epoch 5/10\n",
            "1563/1563 [==============================] - 123s 79ms/step - loss: 0.9158 - accuracy: 0.6846\n",
            "Epoch 6/10\n",
            "1563/1563 [==============================] - 117s 75ms/step - loss: 0.8290 - accuracy: 0.7155\n",
            "Epoch 7/10\n",
            "1563/1563 [==============================] - 110s 70ms/step - loss: 0.7405 - accuracy: 0.7465\n",
            "Epoch 8/10\n",
            "1563/1563 [==============================] - 110s 70ms/step - loss: 0.6804 - accuracy: 0.7695\n",
            "Epoch 9/10\n",
            "1563/1563 [==============================] - 110s 70ms/step - loss: 0.6113 - accuracy: 0.7931\n",
            "Epoch 10/10\n",
            "1563/1563 [==============================] - 115s 73ms/step - loss: 0.5574 - accuracy: 0.8145\n"
          ]
        },
        {
          "output_type": "display_data",
          "data": {
            "text/plain": [
              "<Figure size 576x360 with 1 Axes>"
            ],
            "image/png": "[encoded data removed]"
          },
          "metadata": {
            "needs_background": "light"
          }
        }
      ]
    },
    {
      "cell_type": "markdown",
      "source": [
        "Softmax normalize probabilities"
      ],
      "metadata": {
        "id": "dmGbCn4msPTf"
      }
    },
    {
      "cell_type": "markdown",
      "source": [
        "Already in 5 Epochs, the accuracy has jumped from 40% in ANN to 69% in CNN "
      ],
      "metadata": {
        "id": "gHC2Jsrrycm5"
      }
    },
    {
      "cell_type": "code",
      "source": [
        "cnn.evaluate(X_test, Y_test)"
      ],
      "metadata": {
        "colab": {
          "base_uri": "https://localhost:8080/"
        },
        "id": "gS8FDYko1JTP",
        "outputId": "e34dd249-b0a9-4b7b-f38d-954a4590da39"
      },
      "execution_count": 19,
      "outputs": [
        {
          "output_type": "stream",
          "name": "stdout",
          "text": [
            "313/313 [==============================] - 6s 20ms/step - loss: 1.2736 - accuracy: 0.6324\n"
          ]
        },
        {
          "output_type": "execute_result",
          "data": {
            "text/plain": [
              "[1.273608684539795, 0.6323999762535095]"
            ]
          },
          "metadata": {},
          "execution_count": 19
        }
      ]
    },
    {
      "cell_type": "markdown",
      "source": [
        "63% accuracy. With more epochs and more layers, we can get more accuracy"
      ],
      "metadata": {
        "id": "RyVP74hD1xGi"
      }
    },
    {
      "cell_type": "code",
      "source": [
        "plot_sam(X_test,Y_test,1)"
      ],
      "metadata": {
        "colab": {
          "base_uri": "https://localhost:8080/",
          "height": 173
        },
        "id": "oyncbDEo14Vy",
        "outputId": "7e1fcaca-f611-489e-d411-e7391952c719"
      },
      "execution_count": 20,
      "outputs": [
        {
          "output_type": "display_data",
          "data": {
            "text/plain": [
              "<Figure size 1080x144 with 1 Axes>"
            ],
            "image/png": "[encoded data removed]"
          },
          "metadata": {
            "needs_background": "light"
          }
        }
      ]
    },
    {
      "cell_type": "markdown",
      "source": [
        "Let's use this model to predict it."
      ],
      "metadata": {
        "id": "t5exMUQD2Zg8"
      }
    },
    {
      "cell_type": "code",
      "source": [
        "from sklearn.metrics import confusion_matrix, classification_report\n",
        "y_pred = cnn.predict(X_test)\n",
        "print(y_pred[:5])\n"
      ],
      "metadata": {
        "colab": {
          "base_uri": "https://localhost:8080/"
        },
        "id": "I6PNFfWf2Y-B",
        "outputId": "0805ff2d-71d1-42c0-868c-3a6292a02fe4"
      },
      "execution_count": 21,
      "outputs": [
        {
          "output_type": "stream",
          "name": "stdout",
          "text": [
            "313/313 [==============================] - 7s 21ms/step\n",
            "[[7.3706330e-04 7.2202354e-04 1.2352638e-02 6.9830722e-01 2.4488961e-02\n",
            "  1.7254476e-01 8.3269693e-02 5.2272915e-03 2.2478303e-04 2.1256178e-03]\n",
            " [1.7465194e-05 1.0426140e-05 1.9336914e-10 2.1788828e-13 5.9990831e-13\n",
            "  2.9030563e-15 2.0543336e-09 6.7568706e-14 9.9997205e-01 1.4579506e-08]\n",
            " [5.2565832e-02 9.8595936e-03 2.5513230e-03 4.4944583e-04 4.5720482e-04\n",
            "  7.5354415e-05 2.2258244e-03 1.4569241e-04 9.2919672e-01 2.4730193e-03]\n",
            " [5.6058764e-01 2.1633045e-04 1.0122653e-03 1.6006721e-04 9.8839053e-04\n",
            "  1.4520747e-06 6.6190893e-05 5.1889951e-05 4.3081325e-01 6.1024972e-03]\n",
            " [1.3363434e-03 9.9355599e-04 1.8944721e-01 4.6217799e-02 3.8353693e-02\n",
            "  1.8905681e-02 6.9684643e-01 8.8300713e-04 6.6160890e-03 4.0010360e-04]]\n"
          ]
        }
      ]
    },
    {
      "cell_type": "code",
      "source": [
        "y_pred_classes = [np.argmax(element) for element in y_pred]\n",
        "rounded_labels=np.argmax(Y_test, axis=1)\n",
        "print(y_pred_classes[:20])\n",
        "print(rounded_labels[:20])"
      ],
      "metadata": {
        "colab": {
          "base_uri": "https://localhost:8080/"
        },
        "id": "TIpS1fZf3NZP",
        "outputId": "d8e4afa3-0205-4475-ec4e-5cf733605916"
      },
      "execution_count": 24,
      "outputs": [
        {
          "output_type": "stream",
          "name": "stdout",
          "text": [
            "[3, 8, 8, 0, 6, 6, 1, 6, 5, 1, 0, 9, 3, 7, 9, 8, 3, 7, 8, 6]\n",
            "[3 8 8 0 6 6 1 6 3 1 0 9 5 7 9 8 5 7 8 6]\n"
          ]
        }
      ]
    },
    {
      "cell_type": "markdown",
      "source": [
        "Some errors from Y_test because of 63% accuracy and not 100%"
      ],
      "metadata": {
        "id": "U9kKc3Uo3nh4"
      }
    },
    {
      "cell_type": "code",
      "source": [
        "print('classification Report: \\n', classification_report(rounded_labels,y_pred_classes))"
      ],
      "metadata": {
        "colab": {
          "base_uri": "https://localhost:8080/"
        },
        "id": "rULt38AJ3rUC",
        "outputId": "38ad1246-2169-4697-f0b1-950e889211ae"
      },
      "execution_count": 25,
      "outputs": [
        {
          "output_type": "stream",
          "name": "stdout",
          "text": [
            "classification Report: \n",
            "               precision    recall  f1-score   support\n",
            "\n",
            "           0       0.67      0.71      0.69      1000\n",
            "           1       0.82      0.76      0.79      1000\n",
            "           2       0.58      0.48      0.53      1000\n",
            "           3       0.39      0.45      0.42      1000\n",
            "           4       0.65      0.46      0.54      1000\n",
            "           5       0.46      0.62      0.53      1000\n",
            "           6       0.69      0.76      0.72      1000\n",
            "           7       0.81      0.55      0.65      1000\n",
            "           8       0.69      0.79      0.74      1000\n",
            "           9       0.72      0.74      0.73      1000\n",
            "\n",
            "    accuracy                           0.63     10000\n",
            "   macro avg       0.65      0.63      0.63     10000\n",
            "weighted avg       0.65      0.63      0.63     10000\n",
            "\n"
          ]
        }
      ]
    }
  ]
}